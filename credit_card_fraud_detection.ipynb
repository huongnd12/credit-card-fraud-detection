{
  "cells": [
    {
      "cell_type": "markdown",
      "metadata": {
        "id": "view-in-github",
        "colab_type": "text"
      },
      "source": [
        "<a href=\"https://colab.research.google.com/github/huongnd12/credit-card-fraud-detection/blob/main/credit_card_fraud_detection.ipynb\" target=\"_parent\"><img src=\"https://colab.research.google.com/assets/colab-badge.svg\" alt=\"Open In Colab\"/></a>"
      ]
    },
    {
      "cell_type": "code",
      "execution_count": null,
      "metadata": {
        "colab": {
          "base_uri": "https://localhost:8080/"
        },
        "id": "dIbixVd_nAy6",
        "outputId": "013ba627-6baf-4790-b4a7-fe0a698246cd"
      },
      "outputs": [
        {
          "output_type": "stream",
          "name": "stdout",
          "text": [
            "Requirement already satisfied: imbalanced-learn in /usr/local/lib/python3.10/dist-packages (0.10.1)\n",
            "Collecting imbalanced-learn\n",
            "  Downloading imbalanced_learn-0.11.0-py3-none-any.whl (235 kB)\n",
            "\u001b[2K     \u001b[90m━━━━━━━━━━━━━━━━━━━━━━━━━━━━━━━━━━━━━━━━\u001b[0m \u001b[32m235.6/235.6 kB\u001b[0m \u001b[31m2.2 MB/s\u001b[0m eta \u001b[36m0:00:00\u001b[0m\n",
            "\u001b[?25hRequirement already satisfied: numpy>=1.17.3 in /usr/local/lib/python3.10/dist-packages (from imbalanced-learn) (1.23.5)\n",
            "Requirement already satisfied: scipy>=1.5.0 in /usr/local/lib/python3.10/dist-packages (from imbalanced-learn) (1.11.3)\n",
            "Requirement already satisfied: scikit-learn>=1.0.2 in /usr/local/lib/python3.10/dist-packages (from imbalanced-learn) (1.2.2)\n",
            "Requirement already satisfied: joblib>=1.1.1 in /usr/local/lib/python3.10/dist-packages (from imbalanced-learn) (1.3.2)\n",
            "Requirement already satisfied: threadpoolctl>=2.0.0 in /usr/local/lib/python3.10/dist-packages (from imbalanced-learn) (3.2.0)\n",
            "Installing collected packages: imbalanced-learn\n",
            "  Attempting uninstall: imbalanced-learn\n",
            "    Found existing installation: imbalanced-learn 0.10.1\n",
            "    Uninstalling imbalanced-learn-0.10.1:\n",
            "      Successfully uninstalled imbalanced-learn-0.10.1\n",
            "Successfully installed imbalanced-learn-0.11.0\n"
          ]
        }
      ],
      "source": [
        " !pip install -U imbalanced-learn"
      ]
    },
    {
      "cell_type": "code",
      "execution_count": null,
      "metadata": {
        "id": "USPBIclNixLh"
      },
      "outputs": [],
      "source": [
        "import pandas as pd\n",
        "import numpy as np\n",
        "import matplotlib.pyplot as plt\n",
        "import seaborn as sns\n",
        "import json\n",
        "\n",
        "from sklearn.preprocessing import StandardScaler\n",
        "from sklearn.model_selection import StratifiedShuffleSplit, GridSearchCV\n",
        "from sklearn.metrics import confusion_matrix, classification_report, precision_recall_curve, auc, roc_curve, roc_auc_score\n",
        "from sklearn.metrics import accuracy_score, f1_score\n",
        "from imblearn.over_sampling import BorderlineSMOTE\n",
        "from imblearn.under_sampling import NearMiss\n",
        "\n",
        "from sklearn.neighbors import KNeighborsClassifier\n",
        "from sklearn.ensemble import RandomForestClassifier\n",
        "from xgboost import XGBClassifier\n",
        "from sklearn.linear_model import LogisticRegression\n",
        "\n",
        "import warnings\n",
        "warnings.filterwarnings('ignore')"
      ]
    },
    {
      "cell_type": "code",
      "execution_count": null,
      "metadata": {
        "colab": {
          "base_uri": "https://localhost:8080/"
        },
        "id": "MJLK84nBjGw5",
        "outputId": "061e435a-016c-413d-deb3-8da4b0471de3"
      },
      "outputs": [
        {
          "output_type": "stream",
          "name": "stdout",
          "text": [
            "Downloading...\n",
            "From: https://drive.google.com/uc?id=1_iSLSXl_MuFmiOzGyGUCVzQhYpUZXJGV\n",
            "To: /content/creditcard.csv\n",
            "100% 151M/151M [00:05<00:00, 27.0MB/s]\n"
          ]
        }
      ],
      "source": [
        "!gdown 1_iSLSXl_MuFmiOzGyGUCVzQhYpUZXJGV"
      ]
    },
    {
      "cell_type": "markdown",
      "metadata": {
        "id": "O8mQLphcFqpv"
      },
      "source": [
        "# 1.Introduction"
      ]
    },
    {
      "cell_type": "markdown",
      "metadata": {
        "id": "G4foLKzQFvv9"
      },
      "source": [
        "In this project, I will use various predictive models and compare their performance in detecting whether a transaction is a normal payment or a fraud.\n",
        "\n",
        "Specifically, the goals in this project include:\n",
        "- Dataset EDA\n",
        "- Dealing with imbalanced data between Fraud and Non-Fraud transactions\n",
        "- Training and evaluating Classifiers to choose which one has a higher accuracy"
      ]
    },
    {
      "cell_type": "markdown",
      "metadata": {
        "id": "alOgpnYwHTtb"
      },
      "source": [
        "# 2.EDA"
      ]
    },
    {
      "cell_type": "code",
      "execution_count": null,
      "metadata": {
        "colab": {
          "base_uri": "https://localhost:8080/",
          "height": 255
        },
        "id": "mqQKUn-pjVGY",
        "outputId": "508974f9-b284-4f73-a90f-8b795e8187cc"
      },
      "outputs": [
        {
          "output_type": "execute_result",
          "data": {
            "text/plain": [
              "   Time        V1        V2        V3        V4        V5        V6        V7  \\\n",
              "0   0.0 -1.359807 -0.072781  2.536347  1.378155 -0.338321  0.462388  0.239599   \n",
              "1   0.0  1.191857  0.266151  0.166480  0.448154  0.060018 -0.082361 -0.078803   \n",
              "2   1.0 -1.358354 -1.340163  1.773209  0.379780 -0.503198  1.800499  0.791461   \n",
              "3   1.0 -0.966272 -0.185226  1.792993 -0.863291 -0.010309  1.247203  0.237609   \n",
              "4   2.0 -1.158233  0.877737  1.548718  0.403034 -0.407193  0.095921  0.592941   \n",
              "\n",
              "         V8        V9  ...       V21       V22       V23       V24       V25  \\\n",
              "0  0.098698  0.363787  ... -0.018307  0.277838 -0.110474  0.066928  0.128539   \n",
              "1  0.085102 -0.255425  ... -0.225775 -0.638672  0.101288 -0.339846  0.167170   \n",
              "2  0.247676 -1.514654  ...  0.247998  0.771679  0.909412 -0.689281 -0.327642   \n",
              "3  0.377436 -1.387024  ... -0.108300  0.005274 -0.190321 -1.175575  0.647376   \n",
              "4 -0.270533  0.817739  ... -0.009431  0.798278 -0.137458  0.141267 -0.206010   \n",
              "\n",
              "        V26       V27       V28  Amount  Class  \n",
              "0 -0.189115  0.133558 -0.021053  149.62      0  \n",
              "1  0.125895 -0.008983  0.014724    2.69      0  \n",
              "2 -0.139097 -0.055353 -0.059752  378.66      0  \n",
              "3 -0.221929  0.062723  0.061458  123.50      0  \n",
              "4  0.502292  0.219422  0.215153   69.99      0  \n",
              "\n",
              "[5 rows x 31 columns]"
            ],
            "text/html": [
              "\n",
              "  <div id=\"df-86a7b772-a5f4-4553-8b02-f2f4e522ed39\" class=\"colab-df-container\">\n",
              "    <div>\n",
              "<style scoped>\n",
              "    .dataframe tbody tr th:only-of-type {\n",
              "        vertical-align: middle;\n",
              "    }\n",
              "\n",
              "    .dataframe tbody tr th {\n",
              "        vertical-align: top;\n",
              "    }\n",
              "\n",
              "    .dataframe thead th {\n",
              "        text-align: right;\n",
              "    }\n",
              "</style>\n",
              "<table border=\"1\" class=\"dataframe\">\n",
              "  <thead>\n",
              "    <tr style=\"text-align: right;\">\n",
              "      <th></th>\n",
              "      <th>Time</th>\n",
              "      <th>V1</th>\n",
              "      <th>V2</th>\n",
              "      <th>V3</th>\n",
              "      <th>V4</th>\n",
              "      <th>V5</th>\n",
              "      <th>V6</th>\n",
              "      <th>V7</th>\n",
              "      <th>V8</th>\n",
              "      <th>V9</th>\n",
              "      <th>...</th>\n",
              "      <th>V21</th>\n",
              "      <th>V22</th>\n",
              "      <th>V23</th>\n",
              "      <th>V24</th>\n",
              "      <th>V25</th>\n",
              "      <th>V26</th>\n",
              "      <th>V27</th>\n",
              "      <th>V28</th>\n",
              "      <th>Amount</th>\n",
              "      <th>Class</th>\n",
              "    </tr>\n",
              "  </thead>\n",
              "  <tbody>\n",
              "    <tr>\n",
              "      <th>0</th>\n",
              "      <td>0.0</td>\n",
              "      <td>-1.359807</td>\n",
              "      <td>-0.072781</td>\n",
              "      <td>2.536347</td>\n",
              "      <td>1.378155</td>\n",
              "      <td>-0.338321</td>\n",
              "      <td>0.462388</td>\n",
              "      <td>0.239599</td>\n",
              "      <td>0.098698</td>\n",
              "      <td>0.363787</td>\n",
              "      <td>...</td>\n",
              "      <td>-0.018307</td>\n",
              "      <td>0.277838</td>\n",
              "      <td>-0.110474</td>\n",
              "      <td>0.066928</td>\n",
              "      <td>0.128539</td>\n",
              "      <td>-0.189115</td>\n",
              "      <td>0.133558</td>\n",
              "      <td>-0.021053</td>\n",
              "      <td>149.62</td>\n",
              "      <td>0</td>\n",
              "    </tr>\n",
              "    <tr>\n",
              "      <th>1</th>\n",
              "      <td>0.0</td>\n",
              "      <td>1.191857</td>\n",
              "      <td>0.266151</td>\n",
              "      <td>0.166480</td>\n",
              "      <td>0.448154</td>\n",
              "      <td>0.060018</td>\n",
              "      <td>-0.082361</td>\n",
              "      <td>-0.078803</td>\n",
              "      <td>0.085102</td>\n",
              "      <td>-0.255425</td>\n",
              "      <td>...</td>\n",
              "      <td>-0.225775</td>\n",
              "      <td>-0.638672</td>\n",
              "      <td>0.101288</td>\n",
              "      <td>-0.339846</td>\n",
              "      <td>0.167170</td>\n",
              "      <td>0.125895</td>\n",
              "      <td>-0.008983</td>\n",
              "      <td>0.014724</td>\n",
              "      <td>2.69</td>\n",
              "      <td>0</td>\n",
              "    </tr>\n",
              "    <tr>\n",
              "      <th>2</th>\n",
              "      <td>1.0</td>\n",
              "      <td>-1.358354</td>\n",
              "      <td>-1.340163</td>\n",
              "      <td>1.773209</td>\n",
              "      <td>0.379780</td>\n",
              "      <td>-0.503198</td>\n",
              "      <td>1.800499</td>\n",
              "      <td>0.791461</td>\n",
              "      <td>0.247676</td>\n",
              "      <td>-1.514654</td>\n",
              "      <td>...</td>\n",
              "      <td>0.247998</td>\n",
              "      <td>0.771679</td>\n",
              "      <td>0.909412</td>\n",
              "      <td>-0.689281</td>\n",
              "      <td>-0.327642</td>\n",
              "      <td>-0.139097</td>\n",
              "      <td>-0.055353</td>\n",
              "      <td>-0.059752</td>\n",
              "      <td>378.66</td>\n",
              "      <td>0</td>\n",
              "    </tr>\n",
              "    <tr>\n",
              "      <th>3</th>\n",
              "      <td>1.0</td>\n",
              "      <td>-0.966272</td>\n",
              "      <td>-0.185226</td>\n",
              "      <td>1.792993</td>\n",
              "      <td>-0.863291</td>\n",
              "      <td>-0.010309</td>\n",
              "      <td>1.247203</td>\n",
              "      <td>0.237609</td>\n",
              "      <td>0.377436</td>\n",
              "      <td>-1.387024</td>\n",
              "      <td>...</td>\n",
              "      <td>-0.108300</td>\n",
              "      <td>0.005274</td>\n",
              "      <td>-0.190321</td>\n",
              "      <td>-1.175575</td>\n",
              "      <td>0.647376</td>\n",
              "      <td>-0.221929</td>\n",
              "      <td>0.062723</td>\n",
              "      <td>0.061458</td>\n",
              "      <td>123.50</td>\n",
              "      <td>0</td>\n",
              "    </tr>\n",
              "    <tr>\n",
              "      <th>4</th>\n",
              "      <td>2.0</td>\n",
              "      <td>-1.158233</td>\n",
              "      <td>0.877737</td>\n",
              "      <td>1.548718</td>\n",
              "      <td>0.403034</td>\n",
              "      <td>-0.407193</td>\n",
              "      <td>0.095921</td>\n",
              "      <td>0.592941</td>\n",
              "      <td>-0.270533</td>\n",
              "      <td>0.817739</td>\n",
              "      <td>...</td>\n",
              "      <td>-0.009431</td>\n",
              "      <td>0.798278</td>\n",
              "      <td>-0.137458</td>\n",
              "      <td>0.141267</td>\n",
              "      <td>-0.206010</td>\n",
              "      <td>0.502292</td>\n",
              "      <td>0.219422</td>\n",
              "      <td>0.215153</td>\n",
              "      <td>69.99</td>\n",
              "      <td>0</td>\n",
              "    </tr>\n",
              "  </tbody>\n",
              "</table>\n",
              "<p>5 rows × 31 columns</p>\n",
              "</div>\n",
              "    <div class=\"colab-df-buttons\">\n",
              "\n",
              "  <div class=\"colab-df-container\">\n",
              "    <button class=\"colab-df-convert\" onclick=\"convertToInteractive('df-86a7b772-a5f4-4553-8b02-f2f4e522ed39')\"\n",
              "            title=\"Convert this dataframe to an interactive table.\"\n",
              "            style=\"display:none;\">\n",
              "\n",
              "  <svg xmlns=\"http://www.w3.org/2000/svg\" height=\"24px\" viewBox=\"0 -960 960 960\">\n",
              "    <path d=\"M120-120v-720h720v720H120Zm60-500h600v-160H180v160Zm220 220h160v-160H400v160Zm0 220h160v-160H400v160ZM180-400h160v-160H180v160Zm440 0h160v-160H620v160ZM180-180h160v-160H180v160Zm440 0h160v-160H620v160Z\"/>\n",
              "  </svg>\n",
              "    </button>\n",
              "\n",
              "  <style>\n",
              "    .colab-df-container {\n",
              "      display:flex;\n",
              "      gap: 12px;\n",
              "    }\n",
              "\n",
              "    .colab-df-convert {\n",
              "      background-color: #E8F0FE;\n",
              "      border: none;\n",
              "      border-radius: 50%;\n",
              "      cursor: pointer;\n",
              "      display: none;\n",
              "      fill: #1967D2;\n",
              "      height: 32px;\n",
              "      padding: 0 0 0 0;\n",
              "      width: 32px;\n",
              "    }\n",
              "\n",
              "    .colab-df-convert:hover {\n",
              "      background-color: #E2EBFA;\n",
              "      box-shadow: 0px 1px 2px rgba(60, 64, 67, 0.3), 0px 1px 3px 1px rgba(60, 64, 67, 0.15);\n",
              "      fill: #174EA6;\n",
              "    }\n",
              "\n",
              "    .colab-df-buttons div {\n",
              "      margin-bottom: 4px;\n",
              "    }\n",
              "\n",
              "    [theme=dark] .colab-df-convert {\n",
              "      background-color: #3B4455;\n",
              "      fill: #D2E3FC;\n",
              "    }\n",
              "\n",
              "    [theme=dark] .colab-df-convert:hover {\n",
              "      background-color: #434B5C;\n",
              "      box-shadow: 0px 1px 3px 1px rgba(0, 0, 0, 0.15);\n",
              "      filter: drop-shadow(0px 1px 2px rgba(0, 0, 0, 0.3));\n",
              "      fill: #FFFFFF;\n",
              "    }\n",
              "  </style>\n",
              "\n",
              "    <script>\n",
              "      const buttonEl =\n",
              "        document.querySelector('#df-86a7b772-a5f4-4553-8b02-f2f4e522ed39 button.colab-df-convert');\n",
              "      buttonEl.style.display =\n",
              "        google.colab.kernel.accessAllowed ? 'block' : 'none';\n",
              "\n",
              "      async function convertToInteractive(key) {\n",
              "        const element = document.querySelector('#df-86a7b772-a5f4-4553-8b02-f2f4e522ed39');\n",
              "        const dataTable =\n",
              "          await google.colab.kernel.invokeFunction('convertToInteractive',\n",
              "                                                    [key], {});\n",
              "        if (!dataTable) return;\n",
              "\n",
              "        const docLinkHtml = 'Like what you see? Visit the ' +\n",
              "          '<a target=\"_blank\" href=https://colab.research.google.com/notebooks/data_table.ipynb>data table notebook</a>'\n",
              "          + ' to learn more about interactive tables.';\n",
              "        element.innerHTML = '';\n",
              "        dataTable['output_type'] = 'display_data';\n",
              "        await google.colab.output.renderOutput(dataTable, element);\n",
              "        const docLink = document.createElement('div');\n",
              "        docLink.innerHTML = docLinkHtml;\n",
              "        element.appendChild(docLink);\n",
              "      }\n",
              "    </script>\n",
              "  </div>\n",
              "\n",
              "\n",
              "<div id=\"df-195e997a-af21-43e5-94bc-e58ad0dea9d2\">\n",
              "  <button class=\"colab-df-quickchart\" onclick=\"quickchart('df-195e997a-af21-43e5-94bc-e58ad0dea9d2')\"\n",
              "            title=\"Suggest charts\"\n",
              "            style=\"display:none;\">\n",
              "\n",
              "<svg xmlns=\"http://www.w3.org/2000/svg\" height=\"24px\"viewBox=\"0 0 24 24\"\n",
              "     width=\"24px\">\n",
              "    <g>\n",
              "        <path d=\"M19 3H5c-1.1 0-2 .9-2 2v14c0 1.1.9 2 2 2h14c1.1 0 2-.9 2-2V5c0-1.1-.9-2-2-2zM9 17H7v-7h2v7zm4 0h-2V7h2v10zm4 0h-2v-4h2v4z\"/>\n",
              "    </g>\n",
              "</svg>\n",
              "  </button>\n",
              "\n",
              "<style>\n",
              "  .colab-df-quickchart {\n",
              "      --bg-color: #E8F0FE;\n",
              "      --fill-color: #1967D2;\n",
              "      --hover-bg-color: #E2EBFA;\n",
              "      --hover-fill-color: #174EA6;\n",
              "      --disabled-fill-color: #AAA;\n",
              "      --disabled-bg-color: #DDD;\n",
              "  }\n",
              "\n",
              "  [theme=dark] .colab-df-quickchart {\n",
              "      --bg-color: #3B4455;\n",
              "      --fill-color: #D2E3FC;\n",
              "      --hover-bg-color: #434B5C;\n",
              "      --hover-fill-color: #FFFFFF;\n",
              "      --disabled-bg-color: #3B4455;\n",
              "      --disabled-fill-color: #666;\n",
              "  }\n",
              "\n",
              "  .colab-df-quickchart {\n",
              "    background-color: var(--bg-color);\n",
              "    border: none;\n",
              "    border-radius: 50%;\n",
              "    cursor: pointer;\n",
              "    display: none;\n",
              "    fill: var(--fill-color);\n",
              "    height: 32px;\n",
              "    padding: 0;\n",
              "    width: 32px;\n",
              "  }\n",
              "\n",
              "  .colab-df-quickchart:hover {\n",
              "    background-color: var(--hover-bg-color);\n",
              "    box-shadow: 0 1px 2px rgba(60, 64, 67, 0.3), 0 1px 3px 1px rgba(60, 64, 67, 0.15);\n",
              "    fill: var(--button-hover-fill-color);\n",
              "  }\n",
              "\n",
              "  .colab-df-quickchart-complete:disabled,\n",
              "  .colab-df-quickchart-complete:disabled:hover {\n",
              "    background-color: var(--disabled-bg-color);\n",
              "    fill: var(--disabled-fill-color);\n",
              "    box-shadow: none;\n",
              "  }\n",
              "\n",
              "  .colab-df-spinner {\n",
              "    border: 2px solid var(--fill-color);\n",
              "    border-color: transparent;\n",
              "    border-bottom-color: var(--fill-color);\n",
              "    animation:\n",
              "      spin 1s steps(1) infinite;\n",
              "  }\n",
              "\n",
              "  @keyframes spin {\n",
              "    0% {\n",
              "      border-color: transparent;\n",
              "      border-bottom-color: var(--fill-color);\n",
              "      border-left-color: var(--fill-color);\n",
              "    }\n",
              "    20% {\n",
              "      border-color: transparent;\n",
              "      border-left-color: var(--fill-color);\n",
              "      border-top-color: var(--fill-color);\n",
              "    }\n",
              "    30% {\n",
              "      border-color: transparent;\n",
              "      border-left-color: var(--fill-color);\n",
              "      border-top-color: var(--fill-color);\n",
              "      border-right-color: var(--fill-color);\n",
              "    }\n",
              "    40% {\n",
              "      border-color: transparent;\n",
              "      border-right-color: var(--fill-color);\n",
              "      border-top-color: var(--fill-color);\n",
              "    }\n",
              "    60% {\n",
              "      border-color: transparent;\n",
              "      border-right-color: var(--fill-color);\n",
              "    }\n",
              "    80% {\n",
              "      border-color: transparent;\n",
              "      border-right-color: var(--fill-color);\n",
              "      border-bottom-color: var(--fill-color);\n",
              "    }\n",
              "    90% {\n",
              "      border-color: transparent;\n",
              "      border-bottom-color: var(--fill-color);\n",
              "    }\n",
              "  }\n",
              "</style>\n",
              "\n",
              "  <script>\n",
              "    async function quickchart(key) {\n",
              "      const quickchartButtonEl =\n",
              "        document.querySelector('#' + key + ' button');\n",
              "      quickchartButtonEl.disabled = true;  // To prevent multiple clicks.\n",
              "      quickchartButtonEl.classList.add('colab-df-spinner');\n",
              "      try {\n",
              "        const charts = await google.colab.kernel.invokeFunction(\n",
              "            'suggestCharts', [key], {});\n",
              "      } catch (error) {\n",
              "        console.error('Error during call to suggestCharts:', error);\n",
              "      }\n",
              "      quickchartButtonEl.classList.remove('colab-df-spinner');\n",
              "      quickchartButtonEl.classList.add('colab-df-quickchart-complete');\n",
              "    }\n",
              "    (() => {\n",
              "      let quickchartButtonEl =\n",
              "        document.querySelector('#df-195e997a-af21-43e5-94bc-e58ad0dea9d2 button');\n",
              "      quickchartButtonEl.style.display =\n",
              "        google.colab.kernel.accessAllowed ? 'block' : 'none';\n",
              "    })();\n",
              "  </script>\n",
              "</div>\n",
              "    </div>\n",
              "  </div>\n"
            ]
          },
          "metadata": {},
          "execution_count": 4
        }
      ],
      "source": [
        "df = pd.read_csv('/content/creditcard.csv')\n",
        "df.head()"
      ]
    },
    {
      "cell_type": "markdown",
      "metadata": {
        "id": "ItRrOjrkTlQQ"
      },
      "source": [
        "The dataset contains transactions made by credit cards in September 2013 by European cardholders.\n",
        "\n",
        "The dataset contains only numerical input variables which are the result of a PCA transformation. Unfortunately, due to confidentiality issues, we cannot provide the original features and more background information about the data. Features V1, V2, … V28 are the principal components obtained with PCA, the only features which have not been transformed with PCA are 'Time' and 'Amount'. Feature 'Time' contains the seconds elapsed between each transaction and the first transaction in the dataset. The feature 'Amount' is the transaction Amount, this feature can be used for example-dependant cost-sensitive learning. Feature 'Class' is the response variable and it takes value 1 in case of fraud and 0 otherwise."
      ]
    },
    {
      "cell_type": "code",
      "execution_count": null,
      "metadata": {
        "colab": {
          "base_uri": "https://localhost:8080/",
          "height": 349
        },
        "id": "Ogag0nw19Oi_",
        "outputId": "3d6f7fc0-3bd7-4e56-8bf4-950e902e9e58"
      },
      "outputs": [
        {
          "output_type": "execute_result",
          "data": {
            "text/plain": [
              "                Time            V1            V2            V3            V4  \\\n",
              "count  284807.000000  2.848070e+05  2.848070e+05  2.848070e+05  2.848070e+05   \n",
              "mean    94813.859575  1.168375e-15  3.416908e-16 -1.379537e-15  2.074095e-15   \n",
              "std     47488.145955  1.958696e+00  1.651309e+00  1.516255e+00  1.415869e+00   \n",
              "min         0.000000 -5.640751e+01 -7.271573e+01 -4.832559e+01 -5.683171e+00   \n",
              "25%     54201.500000 -9.203734e-01 -5.985499e-01 -8.903648e-01 -8.486401e-01   \n",
              "50%     84692.000000  1.810880e-02  6.548556e-02  1.798463e-01 -1.984653e-02   \n",
              "75%    139320.500000  1.315642e+00  8.037239e-01  1.027196e+00  7.433413e-01   \n",
              "max    172792.000000  2.454930e+00  2.205773e+01  9.382558e+00  1.687534e+01   \n",
              "\n",
              "                 V5            V6            V7            V8            V9  \\\n",
              "count  2.848070e+05  2.848070e+05  2.848070e+05  2.848070e+05  2.848070e+05   \n",
              "mean   9.604066e-16  1.487313e-15 -5.556467e-16  1.213481e-16 -2.406331e-15   \n",
              "std    1.380247e+00  1.332271e+00  1.237094e+00  1.194353e+00  1.098632e+00   \n",
              "min   -1.137433e+02 -2.616051e+01 -4.355724e+01 -7.321672e+01 -1.343407e+01   \n",
              "25%   -6.915971e-01 -7.682956e-01 -5.540759e-01 -2.086297e-01 -6.430976e-01   \n",
              "50%   -5.433583e-02 -2.741871e-01  4.010308e-02  2.235804e-02 -5.142873e-02   \n",
              "75%    6.119264e-01  3.985649e-01  5.704361e-01  3.273459e-01  5.971390e-01   \n",
              "max    3.480167e+01  7.330163e+01  1.205895e+02  2.000721e+01  1.559499e+01   \n",
              "\n",
              "       ...           V21           V22           V23           V24  \\\n",
              "count  ...  2.848070e+05  2.848070e+05  2.848070e+05  2.848070e+05   \n",
              "mean   ...  1.654067e-16 -3.568593e-16  2.578648e-16  4.473266e-15   \n",
              "std    ...  7.345240e-01  7.257016e-01  6.244603e-01  6.056471e-01   \n",
              "min    ... -3.483038e+01 -1.093314e+01 -4.480774e+01 -2.836627e+00   \n",
              "25%    ... -2.283949e-01 -5.423504e-01 -1.618463e-01 -3.545861e-01   \n",
              "50%    ... -2.945017e-02  6.781943e-03 -1.119293e-02  4.097606e-02   \n",
              "75%    ...  1.863772e-01  5.285536e-01  1.476421e-01  4.395266e-01   \n",
              "max    ...  2.720284e+01  1.050309e+01  2.252841e+01  4.584549e+00   \n",
              "\n",
              "                V25           V26           V27           V28         Amount  \\\n",
              "count  2.848070e+05  2.848070e+05  2.848070e+05  2.848070e+05  284807.000000   \n",
              "mean   5.340915e-16  1.683437e-15 -3.660091e-16 -1.227390e-16      88.349619   \n",
              "std    5.212781e-01  4.822270e-01  4.036325e-01  3.300833e-01     250.120109   \n",
              "min   -1.029540e+01 -2.604551e+00 -2.256568e+01 -1.543008e+01       0.000000   \n",
              "25%   -3.171451e-01 -3.269839e-01 -7.083953e-02 -5.295979e-02       5.600000   \n",
              "50%    1.659350e-02 -5.213911e-02  1.342146e-03  1.124383e-02      22.000000   \n",
              "75%    3.507156e-01  2.409522e-01  9.104512e-02  7.827995e-02      77.165000   \n",
              "max    7.519589e+00  3.517346e+00  3.161220e+01  3.384781e+01   25691.160000   \n",
              "\n",
              "               Class  \n",
              "count  284807.000000  \n",
              "mean        0.001727  \n",
              "std         0.041527  \n",
              "min         0.000000  \n",
              "25%         0.000000  \n",
              "50%         0.000000  \n",
              "75%         0.000000  \n",
              "max         1.000000  \n",
              "\n",
              "[8 rows x 31 columns]"
            ],
            "text/html": [
              "\n",
              "  <div id=\"df-e7928bd4-84cb-4483-ad73-b712fae08576\" class=\"colab-df-container\">\n",
              "    <div>\n",
              "<style scoped>\n",
              "    .dataframe tbody tr th:only-of-type {\n",
              "        vertical-align: middle;\n",
              "    }\n",
              "\n",
              "    .dataframe tbody tr th {\n",
              "        vertical-align: top;\n",
              "    }\n",
              "\n",
              "    .dataframe thead th {\n",
              "        text-align: right;\n",
              "    }\n",
              "</style>\n",
              "<table border=\"1\" class=\"dataframe\">\n",
              "  <thead>\n",
              "    <tr style=\"text-align: right;\">\n",
              "      <th></th>\n",
              "      <th>Time</th>\n",
              "      <th>V1</th>\n",
              "      <th>V2</th>\n",
              "      <th>V3</th>\n",
              "      <th>V4</th>\n",
              "      <th>V5</th>\n",
              "      <th>V6</th>\n",
              "      <th>V7</th>\n",
              "      <th>V8</th>\n",
              "      <th>V9</th>\n",
              "      <th>...</th>\n",
              "      <th>V21</th>\n",
              "      <th>V22</th>\n",
              "      <th>V23</th>\n",
              "      <th>V24</th>\n",
              "      <th>V25</th>\n",
              "      <th>V26</th>\n",
              "      <th>V27</th>\n",
              "      <th>V28</th>\n",
              "      <th>Amount</th>\n",
              "      <th>Class</th>\n",
              "    </tr>\n",
              "  </thead>\n",
              "  <tbody>\n",
              "    <tr>\n",
              "      <th>count</th>\n",
              "      <td>284807.000000</td>\n",
              "      <td>2.848070e+05</td>\n",
              "      <td>2.848070e+05</td>\n",
              "      <td>2.848070e+05</td>\n",
              "      <td>2.848070e+05</td>\n",
              "      <td>2.848070e+05</td>\n",
              "      <td>2.848070e+05</td>\n",
              "      <td>2.848070e+05</td>\n",
              "      <td>2.848070e+05</td>\n",
              "      <td>2.848070e+05</td>\n",
              "      <td>...</td>\n",
              "      <td>2.848070e+05</td>\n",
              "      <td>2.848070e+05</td>\n",
              "      <td>2.848070e+05</td>\n",
              "      <td>2.848070e+05</td>\n",
              "      <td>2.848070e+05</td>\n",
              "      <td>2.848070e+05</td>\n",
              "      <td>2.848070e+05</td>\n",
              "      <td>2.848070e+05</td>\n",
              "      <td>284807.000000</td>\n",
              "      <td>284807.000000</td>\n",
              "    </tr>\n",
              "    <tr>\n",
              "      <th>mean</th>\n",
              "      <td>94813.859575</td>\n",
              "      <td>1.168375e-15</td>\n",
              "      <td>3.416908e-16</td>\n",
              "      <td>-1.379537e-15</td>\n",
              "      <td>2.074095e-15</td>\n",
              "      <td>9.604066e-16</td>\n",
              "      <td>1.487313e-15</td>\n",
              "      <td>-5.556467e-16</td>\n",
              "      <td>1.213481e-16</td>\n",
              "      <td>-2.406331e-15</td>\n",
              "      <td>...</td>\n",
              "      <td>1.654067e-16</td>\n",
              "      <td>-3.568593e-16</td>\n",
              "      <td>2.578648e-16</td>\n",
              "      <td>4.473266e-15</td>\n",
              "      <td>5.340915e-16</td>\n",
              "      <td>1.683437e-15</td>\n",
              "      <td>-3.660091e-16</td>\n",
              "      <td>-1.227390e-16</td>\n",
              "      <td>88.349619</td>\n",
              "      <td>0.001727</td>\n",
              "    </tr>\n",
              "    <tr>\n",
              "      <th>std</th>\n",
              "      <td>47488.145955</td>\n",
              "      <td>1.958696e+00</td>\n",
              "      <td>1.651309e+00</td>\n",
              "      <td>1.516255e+00</td>\n",
              "      <td>1.415869e+00</td>\n",
              "      <td>1.380247e+00</td>\n",
              "      <td>1.332271e+00</td>\n",
              "      <td>1.237094e+00</td>\n",
              "      <td>1.194353e+00</td>\n",
              "      <td>1.098632e+00</td>\n",
              "      <td>...</td>\n",
              "      <td>7.345240e-01</td>\n",
              "      <td>7.257016e-01</td>\n",
              "      <td>6.244603e-01</td>\n",
              "      <td>6.056471e-01</td>\n",
              "      <td>5.212781e-01</td>\n",
              "      <td>4.822270e-01</td>\n",
              "      <td>4.036325e-01</td>\n",
              "      <td>3.300833e-01</td>\n",
              "      <td>250.120109</td>\n",
              "      <td>0.041527</td>\n",
              "    </tr>\n",
              "    <tr>\n",
              "      <th>min</th>\n",
              "      <td>0.000000</td>\n",
              "      <td>-5.640751e+01</td>\n",
              "      <td>-7.271573e+01</td>\n",
              "      <td>-4.832559e+01</td>\n",
              "      <td>-5.683171e+00</td>\n",
              "      <td>-1.137433e+02</td>\n",
              "      <td>-2.616051e+01</td>\n",
              "      <td>-4.355724e+01</td>\n",
              "      <td>-7.321672e+01</td>\n",
              "      <td>-1.343407e+01</td>\n",
              "      <td>...</td>\n",
              "      <td>-3.483038e+01</td>\n",
              "      <td>-1.093314e+01</td>\n",
              "      <td>-4.480774e+01</td>\n",
              "      <td>-2.836627e+00</td>\n",
              "      <td>-1.029540e+01</td>\n",
              "      <td>-2.604551e+00</td>\n",
              "      <td>-2.256568e+01</td>\n",
              "      <td>-1.543008e+01</td>\n",
              "      <td>0.000000</td>\n",
              "      <td>0.000000</td>\n",
              "    </tr>\n",
              "    <tr>\n",
              "      <th>25%</th>\n",
              "      <td>54201.500000</td>\n",
              "      <td>-9.203734e-01</td>\n",
              "      <td>-5.985499e-01</td>\n",
              "      <td>-8.903648e-01</td>\n",
              "      <td>-8.486401e-01</td>\n",
              "      <td>-6.915971e-01</td>\n",
              "      <td>-7.682956e-01</td>\n",
              "      <td>-5.540759e-01</td>\n",
              "      <td>-2.086297e-01</td>\n",
              "      <td>-6.430976e-01</td>\n",
              "      <td>...</td>\n",
              "      <td>-2.283949e-01</td>\n",
              "      <td>-5.423504e-01</td>\n",
              "      <td>-1.618463e-01</td>\n",
              "      <td>-3.545861e-01</td>\n",
              "      <td>-3.171451e-01</td>\n",
              "      <td>-3.269839e-01</td>\n",
              "      <td>-7.083953e-02</td>\n",
              "      <td>-5.295979e-02</td>\n",
              "      <td>5.600000</td>\n",
              "      <td>0.000000</td>\n",
              "    </tr>\n",
              "    <tr>\n",
              "      <th>50%</th>\n",
              "      <td>84692.000000</td>\n",
              "      <td>1.810880e-02</td>\n",
              "      <td>6.548556e-02</td>\n",
              "      <td>1.798463e-01</td>\n",
              "      <td>-1.984653e-02</td>\n",
              "      <td>-5.433583e-02</td>\n",
              "      <td>-2.741871e-01</td>\n",
              "      <td>4.010308e-02</td>\n",
              "      <td>2.235804e-02</td>\n",
              "      <td>-5.142873e-02</td>\n",
              "      <td>...</td>\n",
              "      <td>-2.945017e-02</td>\n",
              "      <td>6.781943e-03</td>\n",
              "      <td>-1.119293e-02</td>\n",
              "      <td>4.097606e-02</td>\n",
              "      <td>1.659350e-02</td>\n",
              "      <td>-5.213911e-02</td>\n",
              "      <td>1.342146e-03</td>\n",
              "      <td>1.124383e-02</td>\n",
              "      <td>22.000000</td>\n",
              "      <td>0.000000</td>\n",
              "    </tr>\n",
              "    <tr>\n",
              "      <th>75%</th>\n",
              "      <td>139320.500000</td>\n",
              "      <td>1.315642e+00</td>\n",
              "      <td>8.037239e-01</td>\n",
              "      <td>1.027196e+00</td>\n",
              "      <td>7.433413e-01</td>\n",
              "      <td>6.119264e-01</td>\n",
              "      <td>3.985649e-01</td>\n",
              "      <td>5.704361e-01</td>\n",
              "      <td>3.273459e-01</td>\n",
              "      <td>5.971390e-01</td>\n",
              "      <td>...</td>\n",
              "      <td>1.863772e-01</td>\n",
              "      <td>5.285536e-01</td>\n",
              "      <td>1.476421e-01</td>\n",
              "      <td>4.395266e-01</td>\n",
              "      <td>3.507156e-01</td>\n",
              "      <td>2.409522e-01</td>\n",
              "      <td>9.104512e-02</td>\n",
              "      <td>7.827995e-02</td>\n",
              "      <td>77.165000</td>\n",
              "      <td>0.000000</td>\n",
              "    </tr>\n",
              "    <tr>\n",
              "      <th>max</th>\n",
              "      <td>172792.000000</td>\n",
              "      <td>2.454930e+00</td>\n",
              "      <td>2.205773e+01</td>\n",
              "      <td>9.382558e+00</td>\n",
              "      <td>1.687534e+01</td>\n",
              "      <td>3.480167e+01</td>\n",
              "      <td>7.330163e+01</td>\n",
              "      <td>1.205895e+02</td>\n",
              "      <td>2.000721e+01</td>\n",
              "      <td>1.559499e+01</td>\n",
              "      <td>...</td>\n",
              "      <td>2.720284e+01</td>\n",
              "      <td>1.050309e+01</td>\n",
              "      <td>2.252841e+01</td>\n",
              "      <td>4.584549e+00</td>\n",
              "      <td>7.519589e+00</td>\n",
              "      <td>3.517346e+00</td>\n",
              "      <td>3.161220e+01</td>\n",
              "      <td>3.384781e+01</td>\n",
              "      <td>25691.160000</td>\n",
              "      <td>1.000000</td>\n",
              "    </tr>\n",
              "  </tbody>\n",
              "</table>\n",
              "<p>8 rows × 31 columns</p>\n",
              "</div>\n",
              "    <div class=\"colab-df-buttons\">\n",
              "\n",
              "  <div class=\"colab-df-container\">\n",
              "    <button class=\"colab-df-convert\" onclick=\"convertToInteractive('df-e7928bd4-84cb-4483-ad73-b712fae08576')\"\n",
              "            title=\"Convert this dataframe to an interactive table.\"\n",
              "            style=\"display:none;\">\n",
              "\n",
              "  <svg xmlns=\"http://www.w3.org/2000/svg\" height=\"24px\" viewBox=\"0 -960 960 960\">\n",
              "    <path d=\"M120-120v-720h720v720H120Zm60-500h600v-160H180v160Zm220 220h160v-160H400v160Zm0 220h160v-160H400v160ZM180-400h160v-160H180v160Zm440 0h160v-160H620v160ZM180-180h160v-160H180v160Zm440 0h160v-160H620v160Z\"/>\n",
              "  </svg>\n",
              "    </button>\n",
              "\n",
              "  <style>\n",
              "    .colab-df-container {\n",
              "      display:flex;\n",
              "      gap: 12px;\n",
              "    }\n",
              "\n",
              "    .colab-df-convert {\n",
              "      background-color: #E8F0FE;\n",
              "      border: none;\n",
              "      border-radius: 50%;\n",
              "      cursor: pointer;\n",
              "      display: none;\n",
              "      fill: #1967D2;\n",
              "      height: 32px;\n",
              "      padding: 0 0 0 0;\n",
              "      width: 32px;\n",
              "    }\n",
              "\n",
              "    .colab-df-convert:hover {\n",
              "      background-color: #E2EBFA;\n",
              "      box-shadow: 0px 1px 2px rgba(60, 64, 67, 0.3), 0px 1px 3px 1px rgba(60, 64, 67, 0.15);\n",
              "      fill: #174EA6;\n",
              "    }\n",
              "\n",
              "    .colab-df-buttons div {\n",
              "      margin-bottom: 4px;\n",
              "    }\n",
              "\n",
              "    [theme=dark] .colab-df-convert {\n",
              "      background-color: #3B4455;\n",
              "      fill: #D2E3FC;\n",
              "    }\n",
              "\n",
              "    [theme=dark] .colab-df-convert:hover {\n",
              "      background-color: #434B5C;\n",
              "      box-shadow: 0px 1px 3px 1px rgba(0, 0, 0, 0.15);\n",
              "      filter: drop-shadow(0px 1px 2px rgba(0, 0, 0, 0.3));\n",
              "      fill: #FFFFFF;\n",
              "    }\n",
              "  </style>\n",
              "\n",
              "    <script>\n",
              "      const buttonEl =\n",
              "        document.querySelector('#df-e7928bd4-84cb-4483-ad73-b712fae08576 button.colab-df-convert');\n",
              "      buttonEl.style.display =\n",
              "        google.colab.kernel.accessAllowed ? 'block' : 'none';\n",
              "\n",
              "      async function convertToInteractive(key) {\n",
              "        const element = document.querySelector('#df-e7928bd4-84cb-4483-ad73-b712fae08576');\n",
              "        const dataTable =\n",
              "          await google.colab.kernel.invokeFunction('convertToInteractive',\n",
              "                                                    [key], {});\n",
              "        if (!dataTable) return;\n",
              "\n",
              "        const docLinkHtml = 'Like what you see? Visit the ' +\n",
              "          '<a target=\"_blank\" href=https://colab.research.google.com/notebooks/data_table.ipynb>data table notebook</a>'\n",
              "          + ' to learn more about interactive tables.';\n",
              "        element.innerHTML = '';\n",
              "        dataTable['output_type'] = 'display_data';\n",
              "        await google.colab.output.renderOutput(dataTable, element);\n",
              "        const docLink = document.createElement('div');\n",
              "        docLink.innerHTML = docLinkHtml;\n",
              "        element.appendChild(docLink);\n",
              "      }\n",
              "    </script>\n",
              "  </div>\n",
              "\n",
              "\n",
              "<div id=\"df-0fed75ed-ec7c-4657-b959-0967c0ab6cd7\">\n",
              "  <button class=\"colab-df-quickchart\" onclick=\"quickchart('df-0fed75ed-ec7c-4657-b959-0967c0ab6cd7')\"\n",
              "            title=\"Suggest charts\"\n",
              "            style=\"display:none;\">\n",
              "\n",
              "<svg xmlns=\"http://www.w3.org/2000/svg\" height=\"24px\"viewBox=\"0 0 24 24\"\n",
              "     width=\"24px\">\n",
              "    <g>\n",
              "        <path d=\"M19 3H5c-1.1 0-2 .9-2 2v14c0 1.1.9 2 2 2h14c1.1 0 2-.9 2-2V5c0-1.1-.9-2-2-2zM9 17H7v-7h2v7zm4 0h-2V7h2v10zm4 0h-2v-4h2v4z\"/>\n",
              "    </g>\n",
              "</svg>\n",
              "  </button>\n",
              "\n",
              "<style>\n",
              "  .colab-df-quickchart {\n",
              "      --bg-color: #E8F0FE;\n",
              "      --fill-color: #1967D2;\n",
              "      --hover-bg-color: #E2EBFA;\n",
              "      --hover-fill-color: #174EA6;\n",
              "      --disabled-fill-color: #AAA;\n",
              "      --disabled-bg-color: #DDD;\n",
              "  }\n",
              "\n",
              "  [theme=dark] .colab-df-quickchart {\n",
              "      --bg-color: #3B4455;\n",
              "      --fill-color: #D2E3FC;\n",
              "      --hover-bg-color: #434B5C;\n",
              "      --hover-fill-color: #FFFFFF;\n",
              "      --disabled-bg-color: #3B4455;\n",
              "      --disabled-fill-color: #666;\n",
              "  }\n",
              "\n",
              "  .colab-df-quickchart {\n",
              "    background-color: var(--bg-color);\n",
              "    border: none;\n",
              "    border-radius: 50%;\n",
              "    cursor: pointer;\n",
              "    display: none;\n",
              "    fill: var(--fill-color);\n",
              "    height: 32px;\n",
              "    padding: 0;\n",
              "    width: 32px;\n",
              "  }\n",
              "\n",
              "  .colab-df-quickchart:hover {\n",
              "    background-color: var(--hover-bg-color);\n",
              "    box-shadow: 0 1px 2px rgba(60, 64, 67, 0.3), 0 1px 3px 1px rgba(60, 64, 67, 0.15);\n",
              "    fill: var(--button-hover-fill-color);\n",
              "  }\n",
              "\n",
              "  .colab-df-quickchart-complete:disabled,\n",
              "  .colab-df-quickchart-complete:disabled:hover {\n",
              "    background-color: var(--disabled-bg-color);\n",
              "    fill: var(--disabled-fill-color);\n",
              "    box-shadow: none;\n",
              "  }\n",
              "\n",
              "  .colab-df-spinner {\n",
              "    border: 2px solid var(--fill-color);\n",
              "    border-color: transparent;\n",
              "    border-bottom-color: var(--fill-color);\n",
              "    animation:\n",
              "      spin 1s steps(1) infinite;\n",
              "  }\n",
              "\n",
              "  @keyframes spin {\n",
              "    0% {\n",
              "      border-color: transparent;\n",
              "      border-bottom-color: var(--fill-color);\n",
              "      border-left-color: var(--fill-color);\n",
              "    }\n",
              "    20% {\n",
              "      border-color: transparent;\n",
              "      border-left-color: var(--fill-color);\n",
              "      border-top-color: var(--fill-color);\n",
              "    }\n",
              "    30% {\n",
              "      border-color: transparent;\n",
              "      border-left-color: var(--fill-color);\n",
              "      border-top-color: var(--fill-color);\n",
              "      border-right-color: var(--fill-color);\n",
              "    }\n",
              "    40% {\n",
              "      border-color: transparent;\n",
              "      border-right-color: var(--fill-color);\n",
              "      border-top-color: var(--fill-color);\n",
              "    }\n",
              "    60% {\n",
              "      border-color: transparent;\n",
              "      border-right-color: var(--fill-color);\n",
              "    }\n",
              "    80% {\n",
              "      border-color: transparent;\n",
              "      border-right-color: var(--fill-color);\n",
              "      border-bottom-color: var(--fill-color);\n",
              "    }\n",
              "    90% {\n",
              "      border-color: transparent;\n",
              "      border-bottom-color: var(--fill-color);\n",
              "    }\n",
              "  }\n",
              "</style>\n",
              "\n",
              "  <script>\n",
              "    async function quickchart(key) {\n",
              "      const quickchartButtonEl =\n",
              "        document.querySelector('#' + key + ' button');\n",
              "      quickchartButtonEl.disabled = true;  // To prevent multiple clicks.\n",
              "      quickchartButtonEl.classList.add('colab-df-spinner');\n",
              "      try {\n",
              "        const charts = await google.colab.kernel.invokeFunction(\n",
              "            'suggestCharts', [key], {});\n",
              "      } catch (error) {\n",
              "        console.error('Error during call to suggestCharts:', error);\n",
              "      }\n",
              "      quickchartButtonEl.classList.remove('colab-df-spinner');\n",
              "      quickchartButtonEl.classList.add('colab-df-quickchart-complete');\n",
              "    }\n",
              "    (() => {\n",
              "      let quickchartButtonEl =\n",
              "        document.querySelector('#df-0fed75ed-ec7c-4657-b959-0967c0ab6cd7 button');\n",
              "      quickchartButtonEl.style.display =\n",
              "        google.colab.kernel.accessAllowed ? 'block' : 'none';\n",
              "    })();\n",
              "  </script>\n",
              "</div>\n",
              "    </div>\n",
              "  </div>\n"
            ]
          },
          "metadata": {},
          "execution_count": 5
        }
      ],
      "source": [
        "df.describe()"
      ]
    },
    {
      "cell_type": "markdown",
      "metadata": {
        "id": "9w8NMJE7WUzH"
      },
      "source": [
        "It should be noted that the transaction amount in the `Amount`column has significant outliers. In detail, the mean and standard deviation respectively are 88.35 and 250.12, and 75% of transactions has an amount of under 77.165."
      ]
    },
    {
      "cell_type": "code",
      "execution_count": null,
      "metadata": {
        "colab": {
          "base_uri": "https://localhost:8080/",
          "height": 348
        },
        "id": "1r-yAmVgUJrf",
        "outputId": "ac144ca2-df85-49e6-915f-341f2830070c"
      },
      "outputs": [
        {
          "output_type": "display_data",
          "data": {
            "text/plain": [
              "<Figure size 1600x400 with 2 Axes>"
            ],
            "image/png": "[encoded data removed]"
          },
          "metadata": {}
        }
      ],
      "source": [
        "fig, axes = plt.subplots(1, 2, figsize=(16,4))\n",
        "\n",
        "sns.distplot(df['Amount'], ax=axes[0])\n",
        "axes[0].set_title('Distribution of Transaction amount')\n",
        "axes[0].set_ylabel('')\n",
        "axes[0].set_xlim(min(df['Amount']), max(df['Amount']))\n",
        "\n",
        "sns.distplot(df['Time'], ax=axes[1])\n",
        "axes[1].set_title('Distribution of Time')\n",
        "axes[1].set_ylabel('')\n",
        "axes[1].set_xlim(min(df['Time']), max(df['Time']))\n",
        "\n",
        "plt.show()\n"
      ]
    },
    {
      "cell_type": "code",
      "execution_count": null,
      "metadata": {
        "colab": {
          "base_uri": "https://localhost:8080/"
        },
        "id": "bvQ2gAEQcrkm",
        "outputId": "72eabc5d-3a78-4a6d-d06b-b57ffeed832f"
      },
      "outputs": [
        {
          "output_type": "stream",
          "name": "stdout",
          "text": [
            "Transaction amount statistic summary:\n",
            "----------\n",
            "Non-Fraud:\n",
            "count    284315.000000\n",
            "mean         88.291022\n",
            "std         250.105092\n",
            "min           0.000000\n",
            "25%           5.650000\n",
            "50%          22.000000\n",
            "75%          77.050000\n",
            "max       25691.160000\n",
            "Name: Amount, dtype: float64\n",
            "----------\n",
            "Fraud:\n",
            "count     492.000000\n",
            "mean      122.211321\n",
            "std       256.683288\n",
            "min         0.000000\n",
            "25%         1.000000\n",
            "50%         9.250000\n",
            "75%       105.890000\n",
            "max      2125.870000\n",
            "Name: Amount, dtype: float64\n"
          ]
        }
      ],
      "source": [
        "c0 = df[df['Class'] == 0]\n",
        "c1 = df[df['Class'] == 1]\n",
        "print('Transaction amount statistic summary:')\n",
        "print('-'*10)\n",
        "print('Non-Fraud:')\n",
        "print(c0.describe()['Amount'])\n",
        "print('-'*10)\n",
        "print('Fraud:')\n",
        "print(c1.describe()['Amount'])"
      ]
    },
    {
      "cell_type": "markdown",
      "metadata": {
        "id": "VU6qoneaZ7Z2"
      },
      "source": [
        "Features will be scaled to the same interval for modelling in the next section."
      ]
    },
    {
      "cell_type": "code",
      "execution_count": null,
      "metadata": {
        "colab": {
          "base_uri": "https://localhost:8080/"
        },
        "id": "pDh2oOn-A7sb",
        "outputId": "6fa2916d-074d-4372-c6f2-f5e45748b98a"
      },
      "outputs": [
        {
          "output_type": "stream",
          "name": "stdout",
          "text": [
            "<class 'pandas.core.frame.DataFrame'>\n",
            "RangeIndex: 284807 entries, 0 to 284806\n",
            "Data columns (total 31 columns):\n",
            " #   Column  Non-Null Count   Dtype  \n",
            "---  ------  --------------   -----  \n",
            " 0   Time    284807 non-null  float64\n",
            " 1   V1      284807 non-null  float64\n",
            " 2   V2      284807 non-null  float64\n",
            " 3   V3      284807 non-null  float64\n",
            " 4   V4      284807 non-null  float64\n",
            " 5   V5      284807 non-null  float64\n",
            " 6   V6      284807 non-null  float64\n",
            " 7   V7      284807 non-null  float64\n",
            " 8   V8      284807 non-null  float64\n",
            " 9   V9      284807 non-null  float64\n",
            " 10  V10     284807 non-null  float64\n",
            " 11  V11     284807 non-null  float64\n",
            " 12  V12     284807 non-null  float64\n",
            " 13  V13     284807 non-null  float64\n",
            " 14  V14     284807 non-null  float64\n",
            " 15  V15     284807 non-null  float64\n",
            " 16  V16     284807 non-null  float64\n",
            " 17  V17     284807 non-null  float64\n",
            " 18  V18     284807 non-null  float64\n",
            " 19  V19     284807 non-null  float64\n",
            " 20  V20     284807 non-null  float64\n",
            " 21  V21     284807 non-null  float64\n",
            " 22  V22     284807 non-null  float64\n",
            " 23  V23     284807 non-null  float64\n",
            " 24  V24     284807 non-null  float64\n",
            " 25  V25     284807 non-null  float64\n",
            " 26  V26     284807 non-null  float64\n",
            " 27  V27     284807 non-null  float64\n",
            " 28  V28     284807 non-null  float64\n",
            " 29  Amount  284807 non-null  float64\n",
            " 30  Class   284807 non-null  int64  \n",
            "dtypes: float64(30), int64(1)\n",
            "memory usage: 67.4 MB\n"
          ]
        }
      ],
      "source": [
        "df.info()"
      ]
    },
    {
      "cell_type": "code",
      "execution_count": null,
      "metadata": {
        "colab": {
          "base_uri": "https://localhost:8080/"
        },
        "id": "RaiV5flZJeAO",
        "outputId": "58deba80-f3c5-4998-8965-b0d4e5db2c11"
      },
      "outputs": [
        {
          "output_type": "stream",
          "name": "stdout",
          "text": [
            "Number of null values:\n",
            "Time      0\n",
            "V1        0\n",
            "V2        0\n",
            "V3        0\n",
            "V4        0\n",
            "V5        0\n",
            "V6        0\n",
            "V7        0\n",
            "V8        0\n",
            "V9        0\n",
            "V10       0\n",
            "V11       0\n",
            "V12       0\n",
            "V13       0\n",
            "V14       0\n",
            "V15       0\n",
            "V16       0\n",
            "V17       0\n",
            "V18       0\n",
            "V19       0\n",
            "V20       0\n",
            "V21       0\n",
            "V22       0\n",
            "V23       0\n",
            "V24       0\n",
            "V25       0\n",
            "V26       0\n",
            "V27       0\n",
            "V28       0\n",
            "Amount    0\n",
            "Class     0\n",
            "dtype: int64\n"
          ]
        }
      ],
      "source": [
        "print('Number of null values:')\n",
        "print(df.isnull().sum())"
      ]
    },
    {
      "cell_type": "code",
      "execution_count": null,
      "metadata": {
        "colab": {
          "base_uri": "https://localhost:8080/"
        },
        "id": "OFuiGO8ZJd4-",
        "outputId": "1313aada-e3b6-46af-b03a-d6331c8d8a85"
      },
      "outputs": [
        {
          "output_type": "stream",
          "name": "stdout",
          "text": [
            "Non-Fraud: 99.83%\n",
            "Fraud: 0.17%\n"
          ]
        }
      ],
      "source": [
        "class_dist = df['Class'].value_counts(normalize=True)*100\n",
        "print(f'Non-Fraud: {class_dist[0]:.2f}%')\n",
        "print(f'Fraud: {class_dist[1]:.2f}%')"
      ]
    },
    {
      "cell_type": "code",
      "execution_count": null,
      "metadata": {
        "colab": {
          "base_uri": "https://localhost:8080/",
          "height": 410
        },
        "id": "MMwSkBfQJdyV",
        "outputId": "e99b6fc3-f38e-41b1-e32d-2f2f039dff33"
      },
      "outputs": [
        {
          "output_type": "display_data",
          "data": {
            "text/plain": [
              "<Figure size 600x400 with 1 Axes>"
            ],
            "image/png": "[encoded data removed]"
          },
          "metadata": {}
        }
      ],
      "source": [
        "plt.figure(figsize=(6,4))\n",
        "sns.countplot(data=df, x='Class', width=0.5)\n",
        "plt.xticks(ticks=[0,1], labels=['Non-Fraud','Fraud'])\n",
        "plt.title('Class distribution')\n",
        "plt.show()"
      ]
    },
    {
      "cell_type": "markdown",
      "metadata": {
        "id": "74tHfNbDSC0j"
      },
      "source": [
        "The dataset is seriously imbalanced. In which, most of transactions are Non-Fraud. This will create error in predictive models' result since they will assume that transactions are Non-Fraud. However, our goal is to detect fraud transactions so models should classify correctly transactions in this class.\n",
        "\n",
        "Oversampling and Undersampling techniques will be implemented in the next section."
      ]
    },
    {
      "cell_type": "markdown",
      "metadata": {
        "id": "IfxJUTKTfuPl"
      },
      "source": [
        "# 3.Data Preprocessing"
      ]
    },
    {
      "cell_type": "markdown",
      "metadata": {
        "id": "QQp3T310fyzd"
      },
      "source": [
        "## 3.1.Data Splitting and Scaling"
      ]
    },
    {
      "cell_type": "code",
      "execution_count": null,
      "metadata": {
        "id": "1CD6oO00qEuA"
      },
      "outputs": [],
      "source": [
        "X, y = df.drop(['Class'], axis=1).to_numpy(), df['Class'].to_numpy()"
      ]
    },
    {
      "cell_type": "code",
      "execution_count": null,
      "metadata": {
        "id": "Wm65ERtqf3YI"
      },
      "outputs": [],
      "source": [
        "sss = StratifiedShuffleSplit(n_splits=1, test_size=0.2, random_state=42)\n",
        "train_idx, test_idx = next(iter(sss.split(X, y)))\n",
        "\n",
        "original_X_train = X[train_idx]\n",
        "original_X_test = X[test_idx]\n",
        "\n",
        "original_y_train = y[train_idx]\n",
        "original_y_test = y[test_idx]"
      ]
    },
    {
      "cell_type": "code",
      "execution_count": null,
      "metadata": {
        "colab": {
          "base_uri": "https://localhost:8080/"
        },
        "id": "_aS7ZUjVJds7",
        "outputId": "ff3eda17-e076-4586-e54c-014d992d0693"
      },
      "outputs": [
        {
          "output_type": "stream",
          "name": "stdout",
          "text": [
            "Train size:\n",
            "  0: 227451\n",
            "  1: 394\n",
            "Test size:\n",
            "  0: 56864\n",
            "  1: 98\n"
          ]
        }
      ],
      "source": [
        "train_sz = np.unique(original_y_train, return_counts=True)\n",
        "test_sz = np.unique(original_y_test, return_counts=True)\n",
        "print('Train size:')\n",
        "print(f'  {train_sz[0][0]}: {train_sz[1][0]}')\n",
        "print(f'  {train_sz[0][1]}: {train_sz[1][1]}')\n",
        "print('Test size:')\n",
        "print(f'  {test_sz[0][0]}: {test_sz[1][0]}')\n",
        "print(f'  {test_sz[0][1]}: {test_sz[1][1]}')"
      ]
    },
    {
      "cell_type": "code",
      "execution_count": null,
      "metadata": {
        "id": "OzISMCrWsk8K"
      },
      "outputs": [],
      "source": [
        "scaler = StandardScaler()\n",
        "original_X_train = scaler.fit_transform(original_X_train)\n",
        "original_X_test = scaler.transform(original_X_test)"
      ]
    },
    {
      "cell_type": "markdown",
      "metadata": {
        "id": "wCMT7hl0tSF9"
      },
      "source": [
        "## 3.2. Oversampling with BorderlineSMOTE"
      ]
    },
    {
      "cell_type": "markdown",
      "metadata": {
        "id": "HYtTU6-4uTno"
      },
      "source": [
        "BorderlineSMOTE is a variant of the original SMOTE algorithm in which the synthetic points might be generated inside the majority class region. Borderline samples will be detected and used to generate new synthetic samples."
      ]
    },
    {
      "cell_type": "code",
      "execution_count": null,
      "metadata": {
        "id": "coR0sgkQvHJp"
      },
      "outputs": [],
      "source": [
        "over = BorderlineSMOTE(random_state=42)\n",
        "X_over, y_over = over.fit_resample(original_X_train, original_y_train)"
      ]
    },
    {
      "cell_type": "code",
      "execution_count": null,
      "metadata": {
        "id": "SaSeDS2LNc8E"
      },
      "outputs": [],
      "source": [
        "df_over = pd.DataFrame(np.hstack([X_over, y_over[:, np.newaxis]]), columns=df.columns)"
      ]
    },
    {
      "cell_type": "code",
      "execution_count": null,
      "metadata": {
        "colab": {
          "base_uri": "https://localhost:8080/",
          "height": 410
        },
        "id": "ZyuqHjP-vG7M",
        "outputId": "91260acb-d099-420a-810f-7ff5737f2154"
      },
      "outputs": [
        {
          "output_type": "display_data",
          "data": {
            "text/plain": [
              "<Figure size 600x400 with 1 Axes>"
            ],
            "image/png": "[encoded data removed]"
          },
          "metadata": {}
        }
      ],
      "source": [
        "plt.figure(figsize=(6,4))\n",
        "sns.countplot(data=df_over, x='Class', width=0.5)\n",
        "plt.xticks(ticks=[0,1], labels=['Non-Fraud','Fraud'])\n",
        "plt.title('Class distribution after Oversampling on Training data')\n",
        "plt.show()"
      ]
    },
    {
      "cell_type": "markdown",
      "metadata": {
        "id": "dKWeHV0xWe9H"
      },
      "source": [
        "**Deeper EDA on oversampling dataset**"
      ]
    },
    {
      "cell_type": "code",
      "execution_count": null,
      "metadata": {
        "colab": {
          "base_uri": "https://localhost:8080/",
          "height": 739
        },
        "id": "EJqHo3_fE3nb",
        "outputId": "3c6a7bf7-e122-4331-8be4-98e8dca8dfaa"
      },
      "outputs": [
        {
          "output_type": "display_data",
          "data": {
            "text/plain": [
              "<Figure size 1200x800 with 2 Axes>"
            ],
            "image/png": "[encoded data removed]"
          },
          "metadata": {}
        }
      ],
      "source": [
        "corr_matrix_over = df_over.corr()\n",
        "plt.figure(figsize=(12,8))\n",
        "sns.heatmap(corr_matrix_over, cmap=\"YlGnBu\")\n",
        "plt.title('Correlation matrix after Oversampling')\n",
        "plt.show()"
      ]
    },
    {
      "cell_type": "markdown",
      "metadata": {
        "id": "MgfUt7jbW1pL"
      },
      "source": [
        "From the above correlation heatmap, we can easily observe that:\n",
        "- **V2**, **V4** and **V11** have **positive** relationship with Fraud possibility. The higher these features, the higher possibility of Fraud transaction\n",
        "- **V3**, **V10** and **V14** have **negative** relationship with Fraud possibility. The lower these features, the higher possibility of Fraud transaction"
      ]
    },
    {
      "cell_type": "markdown",
      "metadata": {
        "id": "LVl5PmL6kcP0"
      },
      "source": [
        "# 4.Modelling"
      ]
    },
    {
      "cell_type": "code",
      "source": [
        "metrics = {'model_name': [],\n",
        "           'train_score': [],\n",
        "           'test_score': [],\n",
        "           'confusion_matrix': [],\n",
        "           'classification_report': [],\n",
        "           'fpr': [],\n",
        "           'tpr': [],\n",
        "           'threshold_roc': [],\n",
        "           'roc_auc': [],\n",
        "           'precision': [],\n",
        "           'recall': [],\n",
        "           'threshold_pr': [],\n",
        "           'pr_auc': []}"
      ],
      "metadata": {
        "id": "emzDCO3xe9Yt"
      },
      "execution_count": null,
      "outputs": []
    },
    {
      "cell_type": "markdown",
      "metadata": {
        "id": "6QqpNjLybcWN"
      },
      "source": [
        "**K-Nearest Neighbors**"
      ]
    },
    {
      "cell_type": "code",
      "execution_count": null,
      "metadata": {
        "id": "LyejiQanlwrR"
      },
      "outputs": [],
      "source": [
        "# KNN\n",
        "knn = KNeighborsClassifier(n_neighbors=3, algorithm='kd_tree')\n",
        "knn.fit(X_over, y_over)\n",
        "\n",
        "# Predict\n",
        "knn_ytrain_pred = knn.predict(X_over)\n",
        "knn_ytest_pred = knn.predict(original_X_test)\n",
        "\n",
        "# Accuracy score\n",
        "knn_train_score = accuracy_score(y_over, knn_ytrain_pred)\n",
        "knn_test_score = accuracy_score(original_y_test, knn_ytest_pred)\n",
        "\n",
        "# Confusion matrix\n",
        "knn_cf = confusion_matrix(original_y_test, knn_ytest_pred)\n",
        "knn_clf_rp = classification_report(original_y_test, knn_ytest_pred)\n",
        "\n",
        "# Predict prob\n",
        "knn_ytest_prob = knn.predict_proba(original_X_test)[:, 1]\n",
        "\n",
        "# ROC\n",
        "knn_fpr, knn_tpr, knn_thres_roc = roc_curve(original_y_test, knn_ytest_prob)\n",
        "knn_roc_auc = roc_auc_score(original_y_test, knn_ytest_prob)\n",
        "\n",
        "# PR\n",
        "knn_precision, knn_recall, knn_thresh_pr = precision_recall_curve(original_y_test, knn_ytest_prob)\n",
        "knn_pr_auc = auc(knn_recall, knn_precision)\n"
      ]
    },
    {
      "cell_type": "code",
      "execution_count": null,
      "metadata": {
        "colab": {
          "base_uri": "https://localhost:8080/",
          "height": 449
        },
        "id": "JiyIuRwrGj55",
        "outputId": "10893ccc-23d8-4e6c-fe6a-43bc4a87a73e"
      },
      "outputs": [
        {
          "output_type": "display_data",
          "data": {
            "text/plain": [
              "<Figure size 640x480 with 1 Axes>"
            ],
            "image/png": "[encoded data removed]"
          },
          "metadata": {}
        }
      ],
      "source": [
        "no_skill = len(original_y_test[original_y_test==1]) / len(original_y_test)\n",
        "knn_fscore = (2 * knn_precision * knn_recall) / (knn_precision + knn_recall)\n",
        "plt.plot(knn_recall, knn_precision, marker='.', color='orange', label='KNN')\n",
        "plt.plot([0, 1], [no_skill, no_skill], linestyle='--', label='No skill')\n",
        "for i, (x, y) in enumerate(zip(knn_recall[1:-1], knn_precision[1:-1])):\n",
        "  plt.text(x, y,\n",
        "           f'fscore:{round(knn_fscore[i+1], 2)}\\n threshold:{round(knn_thresh_pr[i+1], 2)}',\n",
        "           fontdict={'size': 7})\n",
        "plt.xlabel('Recall')\n",
        "plt.ylabel('Precision')\n",
        "plt.legend(loc='lower left')\n",
        "plt.show()"
      ]
    },
    {
      "cell_type": "code",
      "execution_count": null,
      "metadata": {
        "colab": {
          "base_uri": "https://localhost:8080/"
        },
        "id": "oKedgqCDv5qb",
        "outputId": "1ebee61f-20ff-4ce8-9b22-efa32d2ee84e"
      },
      "outputs": [
        {
          "output_type": "stream",
          "name": "stdout",
          "text": [
            "Prediction Prob. >= 0.33\n",
            "              precision    recall  f1-score   support\n",
            "\n",
            "           0       1.00      1.00      1.00     56864\n",
            "           1       0.59      0.87      0.70        98\n",
            "\n",
            "    accuracy                           1.00     56962\n",
            "   macro avg       0.80      0.93      0.85     56962\n",
            "weighted avg       1.00      1.00      1.00     56962\n",
            "\n",
            "\n",
            "\n",
            "Prediction Prob. >= 0.5 (Default)\n",
            "              precision    recall  f1-score   support\n",
            "\n",
            "           0       1.00      1.00      1.00     56864\n",
            "           1       0.78      0.85      0.81        98\n",
            "\n",
            "    accuracy                           1.00     56962\n",
            "   macro avg       0.89      0.92      0.90     56962\n",
            "weighted avg       1.00      1.00      1.00     56962\n",
            "\n"
          ]
        }
      ],
      "source": [
        "print('Prediction Prob. >= 0.33')\n",
        "print(classification_report(original_y_test, (knn_ytest_prob >= 1/3).astype(int)))\n",
        "print('\\n')\n",
        "print('Prediction Prob. >= 0.5 (Default)')\n",
        "print(knn_clf_rp)"
      ]
    },
    {
      "cell_type": "code",
      "source": [
        "metrics['model_name'].append('KNN')\n",
        "metrics['train_score'].append(knn_train_score)\n",
        "metrics['test_score'].append(knn_test_score)\n",
        "metrics['confusion_matrix'].append(knn_cf.tolist())\n",
        "metrics['classification_report'].append(knn_clf_rp)\n",
        "metrics['fpr'].append(knn_fpr.tolist())\n",
        "metrics['tpr'].append(knn_tpr.tolist())\n",
        "metrics['threshold_roc'].append(knn_thres_roc.tolist())\n",
        "metrics['roc_auc'].append(knn_roc_auc)\n",
        "metrics['precision'].append(knn_precision.tolist())\n",
        "metrics['recall'].append(knn_recall.tolist())\n",
        "metrics['threshold_pr'].append(knn_thresh_pr.tolist())\n",
        "metrics['pr_auc'].append(knn_pr_auc)"
      ],
      "metadata": {
        "id": "xbj0g5_QsFt1"
      },
      "execution_count": null,
      "outputs": []
    },
    {
      "cell_type": "markdown",
      "metadata": {
        "id": "HASkj2JwbjVJ"
      },
      "source": [
        "**Random Forest**"
      ]
    },
    {
      "cell_type": "code",
      "execution_count": null,
      "metadata": {
        "id": "ONtp_ZcSbdp4"
      },
      "outputs": [],
      "source": [
        "# Random Forest\n",
        "\n",
        "rf = RandomForestClassifier()\n",
        "rf.fit(X_over, y_over)\n",
        "\n",
        "# Predict\n",
        "rf_ytrain_pred = rf.predict(X_over)\n",
        "rf_ytest_pred = rf.predict(original_X_test)\n",
        "\n",
        "# Accuracy score\n",
        "rf_train_score = accuracy_score(y_over, rf_ytrain_pred)\n",
        "rf_test_score = accuracy_score(original_y_test, rf_ytest_pred)\n",
        "\n",
        "# Confusion matrix\n",
        "rf_cf = confusion_matrix(original_y_test, rf_ytest_pred)\n",
        "rf_clf_rp = classification_report(original_y_test, rf_ytest_pred)\n",
        "\n",
        "# Predict prob\n",
        "rf_ytest_prob = rf.predict_proba(original_X_test)[:, 1]\n",
        "\n",
        "# ROC\n",
        "rf_fpr, rf_tpr, rf_thres_roc = roc_curve(original_y_test, rf_ytest_prob)\n",
        "rf_roc_auc = roc_auc_score(original_y_test, rf_ytest_prob)\n",
        "\n",
        "# PR\n",
        "rf_precision, rf_recall, rf_thresh_pr = precision_recall_curve(original_y_test, rf_ytest_prob)\n",
        "rf_pr_auc = auc(rf_recall, rf_precision)\n"
      ]
    },
    {
      "cell_type": "code",
      "execution_count": null,
      "metadata": {
        "colab": {
          "base_uri": "https://localhost:8080/",
          "height": 449
        },
        "id": "5E3eup1YgIj4",
        "outputId": "de45e6bd-145c-48c8-a8ef-12db163aa475"
      },
      "outputs": [
        {
          "output_type": "display_data",
          "data": {
            "text/plain": [
              "<Figure size 640x480 with 1 Axes>"
            ],
            "image/png": "[encoded data removed]"
          },
          "metadata": {}
        }
      ],
      "source": [
        "no_skill = len(original_y_test[original_y_test==1]) / len(original_y_test)\n",
        "rf_fscore = (2 * rf_precision * rf_recall) / (rf_precision + rf_recall)\n",
        "plt.plot(rf_recall, rf_precision, marker='.', color='orange', label='Random Forest')\n",
        "plt.plot([0, 1], [no_skill, no_skill], linestyle='--', label='No skill')\n",
        "plt.plot(rf_recall[np.argmax(rf_fscore)], rf_precision[np.argmax(rf_fscore)], 'ro')\n",
        "\n",
        "plt.xlabel('Recall')\n",
        "plt.ylabel('Precision')\n",
        "plt.legend()\n",
        "plt.show()"
      ]
    },
    {
      "cell_type": "code",
      "source": [
        "print('Precision-Recall Threshold reaches the highest f1 score:', rf_thresh_pr[np.argmax(rf_fscore)])"
      ],
      "metadata": {
        "colab": {
          "base_uri": "https://localhost:8080/"
        },
        "id": "Zrjt-BIPf2e-",
        "outputId": "e8fd8ee8-cbb2-45d3-9a01-168aab84cae5"
      },
      "execution_count": null,
      "outputs": [
        {
          "output_type": "stream",
          "name": "stdout",
          "text": [
            "Precision-Recall Threshold reaches the highest f1 score: 0.34\n"
          ]
        }
      ]
    },
    {
      "cell_type": "code",
      "execution_count": null,
      "metadata": {
        "colab": {
          "base_uri": "https://localhost:8080/"
        },
        "id": "gYeB2wkwt4tP",
        "outputId": "062d8a2a-eb9e-4670-e995-e91fb95ffffe"
      },
      "outputs": [
        {
          "output_type": "stream",
          "name": "stdout",
          "text": [
            "Prediction Prob. >= 0.34 (Highest F1-Score)\n",
            "              precision    recall  f1-score   support\n",
            "\n",
            "           0       1.00      1.00      1.00     56864\n",
            "           1       0.89      0.84      0.86        98\n",
            "\n",
            "    accuracy                           1.00     56962\n",
            "   macro avg       0.95      0.92      0.93     56962\n",
            "weighted avg       1.00      1.00      1.00     56962\n",
            "\n",
            "\n",
            "\n",
            "Prediction Prob. >= 0.5 (Default)\n",
            "              precision    recall  f1-score   support\n",
            "\n",
            "           0       1.00      1.00      1.00     56864\n",
            "           1       0.91      0.77      0.83        98\n",
            "\n",
            "    accuracy                           1.00     56962\n",
            "   macro avg       0.96      0.88      0.92     56962\n",
            "weighted avg       1.00      1.00      1.00     56962\n",
            "\n"
          ]
        }
      ],
      "source": [
        "print('Prediction Prob. >= 0.34 (Highest F1-Score)')\n",
        "print(classification_report(original_y_test, (rf_ytest_prob >= 0.34).astype(int)))\n",
        "print('\\n')\n",
        "print('Prediction Prob. >= 0.5 (Default)')\n",
        "print(rf_clf_rp)"
      ]
    },
    {
      "cell_type": "code",
      "source": [
        "metrics['model_name'].append('Random Forest')\n",
        "metrics['train_score'].append(rf_train_score)\n",
        "metrics['test_score'].append(rf_test_score)\n",
        "metrics['confusion_matrix'].append(rf_cf.tolist())\n",
        "metrics['classification_report'].append(rf_clf_rp)\n",
        "metrics['fpr'].append(rf_fpr.tolist())\n",
        "metrics['tpr'].append(rf_tpr.tolist())\n",
        "metrics['threshold_roc'].append(rf_thres_roc.tolist())\n",
        "metrics['roc_auc'].append(rf_roc_auc)\n",
        "metrics['precision'].append(rf_precision.tolist())\n",
        "metrics['recall'].append(rf_recall.tolist())\n",
        "metrics['threshold_pr'].append(rf_thresh_pr.tolist())\n",
        "metrics['pr_auc'].append(rf_pr_auc)"
      ],
      "metadata": {
        "id": "VeWgXKulyQTD"
      },
      "execution_count": null,
      "outputs": []
    },
    {
      "cell_type": "markdown",
      "metadata": {
        "id": "jOpQljiFejWd"
      },
      "source": [
        "**XGBoost**"
      ]
    },
    {
      "cell_type": "code",
      "execution_count": null,
      "metadata": {
        "id": "98HJfKicw5Nh"
      },
      "outputs": [],
      "source": [
        "# XGBoost\n",
        "\n",
        "xgb = XGBClassifier()\n",
        "xgb.fit(X_over, y_over)\n",
        "\n",
        "# Predict\n",
        "xgb_ytrain_pred = xgb.predict(X_over)\n",
        "xgb_ytest_pred = xgb.predict(original_X_test)\n",
        "\n",
        "# Accuracy score\n",
        "xgb_train_score = accuracy_score(y_over, xgb_ytrain_pred)\n",
        "xgb_test_score = accuracy_score(original_y_test, xgb_ytest_pred)\n",
        "\n",
        "# Confusion matrix\n",
        "xgb_cf = confusion_matrix(original_y_test, xgb_ytest_pred)\n",
        "xgb_clf_rp = classification_report(original_y_test, xgb_ytest_pred)\n",
        "\n",
        "# Predict prob\n",
        "xgb_ytest_prob = xgb.predict_proba(original_X_test)[:, 1]\n",
        "\n",
        "# ROC\n",
        "xgb_fpr, xgb_tpr, xgb_thres_roc = roc_curve(original_y_test, xgb_ytest_prob)\n",
        "xgb_roc_auc = roc_auc_score(original_y_test, xgb_ytest_prob)\n",
        "\n",
        "# PR\n",
        "xgb_precision, xgb_recall, xgb_thresh_pr = precision_recall_curve(original_y_test, xgb_ytest_prob)\n",
        "xgb_pr_auc = auc(xgb_recall, xgb_precision)\n"
      ]
    },
    {
      "cell_type": "code",
      "execution_count": null,
      "metadata": {
        "colab": {
          "base_uri": "https://localhost:8080/",
          "height": 449
        },
        "id": "6xUOFr2dxVfn",
        "outputId": "87725432-1163-4934-e5b7-8fc7a9a67dde"
      },
      "outputs": [
        {
          "output_type": "display_data",
          "data": {
            "text/plain": [
              "<Figure size 640x480 with 1 Axes>"
            ],
            "image/png": "[encoded data removed]"
          },
          "metadata": {}
        }
      ],
      "source": [
        "no_skill = len(original_y_test[original_y_test==1]) / len(original_y_test)\n",
        "xgb_fscore = (2 * xgb_precision * xgb_recall) / (xgb_precision + xgb_recall)\n",
        "plt.plot(xgb_recall, xgb_precision, marker='.', color='orange', label='XGBoost')\n",
        "plt.plot([0, 1], [no_skill, no_skill], linestyle='--', label='No skill')\n",
        "plt.plot(xgb_recall[np.argmax(xgb_fscore)], xgb_precision[np.argmax(xgb_fscore)], 'ro')\n",
        "\n",
        "plt.xlabel('Recall')\n",
        "plt.ylabel('Precision')\n",
        "plt.legend()\n",
        "plt.show()"
      ]
    },
    {
      "cell_type": "code",
      "source": [
        "print('Precision-Recall Threshold reaches the highest f1 score:', xgb_thresh_pr[np.argmax(xgb_fscore)])"
      ],
      "metadata": {
        "colab": {
          "base_uri": "https://localhost:8080/"
        },
        "id": "-RR_i3TfgIgl",
        "outputId": "8900f481-4ed1-4a02-dd9b-114837413a17"
      },
      "execution_count": null,
      "outputs": [
        {
          "output_type": "stream",
          "name": "stdout",
          "text": [
            "Precision-Recall Threshold reaches the highest f1 score: 0.6299712\n"
          ]
        }
      ]
    },
    {
      "cell_type": "code",
      "execution_count": null,
      "metadata": {
        "colab": {
          "base_uri": "https://localhost:8080/"
        },
        "id": "IIUZfavnxp1z",
        "outputId": "4c79fbc1-0f7c-4635-fc33-0d134889f665"
      },
      "outputs": [
        {
          "output_type": "stream",
          "name": "stdout",
          "text": [
            "Prediction Prob. >= 0.63 (Highest F1-Score)\n",
            "              precision    recall  f1-score   support\n",
            "\n",
            "           0       1.00      1.00      1.00     56864\n",
            "           1       0.87      0.83      0.85        98\n",
            "\n",
            "    accuracy                           1.00     56962\n",
            "   macro avg       0.94      0.91      0.92     56962\n",
            "weighted avg       1.00      1.00      1.00     56962\n",
            "\n",
            "\n",
            "\n",
            "Prediction Prob. >= 0.5 (Default)\n",
            "              precision    recall  f1-score   support\n",
            "\n",
            "           0       1.00      1.00      1.00     56864\n",
            "           1       0.86      0.84      0.85        98\n",
            "\n",
            "    accuracy                           1.00     56962\n",
            "   macro avg       0.93      0.92      0.92     56962\n",
            "weighted avg       1.00      1.00      1.00     56962\n",
            "\n"
          ]
        }
      ],
      "source": [
        "print('Prediction Prob. >= 0.63 (Highest F1-Score)')\n",
        "print(classification_report(original_y_test, (xgb_ytest_prob >= 0.63).astype(int)))\n",
        "print('\\n')\n",
        "print('Prediction Prob. >= 0.5 (Default)')\n",
        "print(xgb_clf_rp)"
      ]
    },
    {
      "cell_type": "code",
      "source": [
        "metrics['model_name'].append('XGBoost')\n",
        "metrics['train_score'].append(xgb_train_score)\n",
        "metrics['test_score'].append(xgb_test_score)\n",
        "metrics['confusion_matrix'].append(xgb_cf.tolist())\n",
        "metrics['classification_report'].append(xgb_clf_rp)\n",
        "metrics['fpr'].append(xgb_fpr.tolist())\n",
        "metrics['tpr'].append(xgb_tpr.tolist())\n",
        "metrics['threshold_roc'].append(xgb_thres_roc.tolist())\n",
        "metrics['roc_auc'].append(xgb_roc_auc)\n",
        "metrics['precision'].append(xgb_precision.tolist())\n",
        "metrics['recall'].append(xgb_recall.tolist())\n",
        "metrics['threshold_pr'].append(xgb_thresh_pr.tolist())\n",
        "metrics['pr_auc'].append(xgb_pr_auc)"
      ],
      "metadata": {
        "id": "LoAyYOLVyebc"
      },
      "execution_count": null,
      "outputs": []
    },
    {
      "cell_type": "markdown",
      "metadata": {
        "id": "5ugGbQHwqmCd"
      },
      "source": [
        "**Logistic Regression**"
      ]
    },
    {
      "cell_type": "code",
      "execution_count": null,
      "metadata": {
        "id": "Z8h7RgRn64-q"
      },
      "outputs": [],
      "source": [
        "weight0 = len(np.where(original_y_train == 0)[0]) / len(original_y_train)"
      ]
    },
    {
      "cell_type": "code",
      "source": [
        "# Logistic Regression\n",
        "\n",
        "logreg = LogisticRegression()\n",
        "logreg.fit(X_over, y_over)\n",
        "\n",
        "# Predict\n",
        "logreg_ytrain_pred = logreg.predict(X_over)\n",
        "logreg_ytest_pred = logreg.predict(original_X_test)\n",
        "\n",
        "# Accuracy score\n",
        "logreg_train_score = accuracy_score(y_over, logreg_ytrain_pred)\n",
        "logreg_test_score = accuracy_score(original_y_test, logreg_ytest_pred)\n",
        "\n",
        "# Confusion matrix\n",
        "logreg_cf = confusion_matrix(original_y_test, logreg_ytest_pred)\n",
        "logreg_clf_rp = classification_report(original_y_test, logreg_ytest_pred)\n",
        "\n",
        "# Predict prob\n",
        "logreg_ytest_prob = logreg.predict_proba(original_X_test)[:, 1]\n",
        "\n",
        "# ROC\n",
        "logreg_fpr, logreg_tpr, logreg_thres_roc = roc_curve(original_y_test, logreg_ytest_prob)\n",
        "logreg_roc_auc = roc_auc_score(original_y_test, logreg_ytest_prob)\n",
        "\n",
        "# PR\n",
        "logreg_precision, logreg_recall, logreg_thresh_pr = precision_recall_curve(original_y_test, logreg_ytest_prob)\n",
        "logreg_pr_auc = auc(logreg_recall, logreg_precision)\n"
      ],
      "metadata": {
        "id": "WIRX0Tq5njcz"
      },
      "execution_count": null,
      "outputs": []
    },
    {
      "cell_type": "code",
      "source": [
        "no_skill = len(original_y_test[original_y_test==1]) / len(original_y_test)\n",
        "logreg_fscore = (2 * logreg_precision * logreg_recall) / (logreg_precision + logreg_recall)\n",
        "plt.plot(logreg_recall, logreg_precision, marker='.', color='orange', label='Logistic Regression')\n",
        "plt.plot([0, 1], [no_skill, no_skill], linestyle='--', label='No skill')\n",
        "plt.plot(logreg_recall[np.argmax(logreg_fscore)], logreg_precision[np.argmax(logreg_fscore)], 'ro')\n",
        "\n",
        "plt.xlabel('Recall')\n",
        "plt.ylabel('Precision')\n",
        "plt.legend()\n",
        "plt.show()"
      ],
      "metadata": {
        "colab": {
          "base_uri": "https://localhost:8080/",
          "height": 449
        },
        "id": "AjFyM-C2VgJk",
        "outputId": "e79290af-f4cb-49ca-b6d7-3e10a69e17f0"
      },
      "execution_count": null,
      "outputs": [
        {
          "output_type": "display_data",
          "data": {
            "text/plain": [
              "<Figure size 640x480 with 1 Axes>"
            ],
            "image/png": "[encoded data removed]"
          },
          "metadata": {}
        }
      ]
    },
    {
      "cell_type": "code",
      "source": [
        "print('Precision-Recall Threshold reaches the highest f1 score:', logreg_thresh_pr[np.argmax(logreg_fscore)])"
      ],
      "metadata": {
        "colab": {
          "base_uri": "https://localhost:8080/"
        },
        "id": "U3fKj5gCWAuz",
        "outputId": "c4185795-46af-43ca-c230-a8f9c3a8922a"
      },
      "execution_count": null,
      "outputs": [
        {
          "output_type": "stream",
          "name": "stdout",
          "text": [
            "Precision-Recall Threshold reaches the highest f1 score: 0.9999988099574957\n"
          ]
        }
      ]
    },
    {
      "cell_type": "code",
      "execution_count": null,
      "metadata": {
        "colab": {
          "base_uri": "https://localhost:8080/"
        },
        "id": "GvHah69oqp1C",
        "outputId": "ad9f1b19-ac71-4202-c2d1-4e8e885614bc"
      },
      "outputs": [
        {
          "output_type": "stream",
          "name": "stdout",
          "text": [
            "Prediction Prob. >= 0.99999 (Highest F1-Score)\n",
            "              precision    recall  f1-score   support\n",
            "\n",
            "           0       1.00      1.00      1.00     56864\n",
            "           1       0.73      0.76      0.74        98\n",
            "\n",
            "    accuracy                           1.00     56962\n",
            "   macro avg       0.86      0.88      0.87     56962\n",
            "weighted avg       1.00      1.00      1.00     56962\n",
            "\n",
            "\n",
            "\n",
            "Prediction Prob. >= 0.5 (Default)\n",
            "              precision    recall  f1-score   support\n",
            "\n",
            "           0       1.00      0.99      0.99     56864\n",
            "           1       0.10      0.86      0.18        98\n",
            "\n",
            "    accuracy                           0.99     56962\n",
            "   macro avg       0.55      0.92      0.59     56962\n",
            "weighted avg       1.00      0.99      0.99     56962\n",
            "\n"
          ]
        }
      ],
      "source": [
        "print('Prediction Prob. >= 0.99999 (Highest F1-Score)')\n",
        "print(classification_report(original_y_test, (logreg_ytest_prob >= 0.99999).astype(int)))\n",
        "print('\\n')\n",
        "print('Prediction Prob. >= 0.5 (Default)')\n",
        "print(logreg_clf_rp)"
      ]
    },
    {
      "cell_type": "code",
      "source": [
        "metrics['model_name'].append('Logistic Regression')\n",
        "metrics['train_score'].append(logreg_train_score)\n",
        "metrics['test_score'].append(logreg_test_score)\n",
        "metrics['confusion_matrix'].append(logreg_cf.tolist())\n",
        "metrics['classification_report'].append(logreg_clf_rp)\n",
        "metrics['fpr'].append(logreg_fpr.tolist())\n",
        "metrics['tpr'].append(logreg_tpr.tolist())\n",
        "metrics['threshold_roc'].append(logreg_thres_roc.tolist())\n",
        "metrics['roc_auc'].append(logreg_roc_auc)\n",
        "metrics['precision'].append(logreg_precision.tolist())\n",
        "metrics['recall'].append(logreg_recall.tolist())\n",
        "metrics['threshold_pr'].append(logreg_thresh_pr.tolist())\n",
        "metrics['pr_auc'].append(logreg_pr_auc)"
      ],
      "metadata": {
        "id": "Xwl2sitsXzw3"
      },
      "execution_count": null,
      "outputs": []
    },
    {
      "cell_type": "code",
      "source": [
        "with open('metrics_summary.json', 'w') as f:\n",
        "    json.dump(metrics, f)"
      ],
      "metadata": {
        "id": "_eAPI31bX_NF"
      },
      "execution_count": null,
      "outputs": []
    },
    {
      "cell_type": "markdown",
      "source": [
        "# 5.Summary of Model evaluation"
      ],
      "metadata": {
        "id": "OhlGXpX-g77r"
      }
    },
    {
      "cell_type": "code",
      "source": [
        "with open('metrics_summary.json', 'r') as f:\n",
        "    metrics_summary = json.load(f)"
      ],
      "metadata": {
        "id": "NKYk5Gx-hPOq"
      },
      "execution_count": null,
      "outputs": []
    },
    {
      "cell_type": "code",
      "source": [
        "fig = plt.figure(figsize=(10, 5))\n",
        "plt.plot([0, 1], [no_skill, no_skill], linestyle='--', label='No skill')\n",
        "for i in range(4):\n",
        "  plt.plot(metrics_summary['recall'][i], metrics_summary['precision'][i], marker='.', label=metrics_summary['model_name'][i])\n",
        "\n",
        "plt.xlabel('Recall')\n",
        "plt.ylabel('Precision')\n",
        "plt.title('Precision-Recall Curve Comparison')\n",
        "plt.legend()\n",
        "plt.show()"
      ],
      "metadata": {
        "colab": {
          "base_uri": "https://localhost:8080/",
          "height": 487
        },
        "id": "f17mpIp0kD9s",
        "outputId": "8948baea-cfca-4d01-e218-76eab5c22344"
      },
      "execution_count": null,
      "outputs": [
        {
          "output_type": "display_data",
          "data": {
            "text/plain": [
              "<Figure size 1000x500 with 1 Axes>"
            ],
            "image/png": "[encoded data removed]"
          },
          "metadata": {}
        }
      ]
    },
    {
      "cell_type": "code",
      "source": [
        "print('Summary of Precision-Recall AUC Score:')\n",
        "for i in range(4):\n",
        "  model_name = metrics_summary['model_name'][i]\n",
        "  pr_auc = metrics_summary['pr_auc'][i]\n",
        "  print(f'  {model_name:<20}: {pr_auc:.4f}')"
      ],
      "metadata": {
        "colab": {
          "base_uri": "https://localhost:8080/"
        },
        "id": "uvrb90HClqD0",
        "outputId": "cee6781e-a623-401e-92c7-6351824e8692"
      },
      "execution_count": null,
      "outputs": [
        {
          "output_type": "stream",
          "name": "stdout",
          "text": [
            "Summary of Precision-Recall AUC Score:\n",
            "  KNN                 : 0.8300\n",
            "  Random Forest       : 0.8654\n",
            "  XGBoost             : 0.8610\n",
            "  Logistic Regression : 0.7143\n"
          ]
        }
      ]
    },
    {
      "cell_type": "markdown",
      "source": [
        "The comparison of Precision-Recall Curve and Precision-Recall AUC Score show better classification on validation dataset under algorithms `Random Forest` and `XGBoost`. In addition, XGBoost takes less time to train and much faster than with Random Forest."
      ],
      "metadata": {
        "id": "04nAQfkElo6o"
      }
    },
    {
      "cell_type": "markdown",
      "source": [
        "# 6.Application of Feed Forward Neural Network"
      ],
      "metadata": {
        "id": "pQqhz7CoomA5"
      }
    },
    {
      "cell_type": "code",
      "source": [
        "import torch\n",
        "from torch import nn, optim\n",
        "from torch.utils.data import Dataset, DataLoader\n",
        "import time"
      ],
      "metadata": {
        "id": "H4bVYfEoox4n"
      },
      "execution_count": null,
      "outputs": []
    },
    {
      "cell_type": "code",
      "source": [
        "class CustomDataset(Dataset):\n",
        "  def __init__(self, X, y):\n",
        "    super(CustomDataset, self).__init__()\n",
        "    self.X = torch.tensor(X, dtype=torch.float32)\n",
        "    self.y = torch.tensor(y, dtype=torch.long)\n",
        "\n",
        "  def __len__(self):\n",
        "    return len(self.X)\n",
        "\n",
        "  def __getitem__(self, idx):\n",
        "    return self.X[idx], self.y[idx]\n"
      ],
      "metadata": {
        "id": "w849yQjvpWKm"
      },
      "execution_count": null,
      "outputs": []
    },
    {
      "cell_type": "code",
      "source": [
        "train_dataset = CustomDataset(X_over, y_over)\n",
        "test_dataset = CustomDataset(original_X_test, original_y_test)\n",
        "\n",
        "train_batch_size = 512\n",
        "test_batch_size = 8\n",
        "train_loader = DataLoader(dataset=train_dataset,\n",
        "                          batch_size=train_batch_size,\n",
        "                          shuffle=True)\n",
        "test_loader = DataLoader(dataset=test_dataset,\n",
        "                         batch_size=test_batch_size,\n",
        "                         shuffle=False)"
      ],
      "metadata": {
        "id": "BuffKdnBqPj4"
      },
      "execution_count": null,
      "outputs": []
    },
    {
      "cell_type": "code",
      "source": [
        "def train(data_loader, model, criterion, optimizer, device):\n",
        "  model.train()\n",
        "  train_loss, train_acc = 0, 0\n",
        "  for images, labels in data_loader:\n",
        "    images, labels = images.to(device), labels.to(device)\n",
        "    outputs = model(images)\n",
        "\n",
        "    loss = criterion(outputs, labels)\n",
        "    train_loss += loss.item()\n",
        "    train_acc += (torch.argmax(outputs, dim=1) == labels).sum().item()\n",
        "\n",
        "    optimizer.zero_grad()\n",
        "    loss.backward()\n",
        "    optimizer.step()\n",
        "\n",
        "  train_loss /= len(data_loader)\n",
        "  train_acc /= len(data_loader.dataset)\n",
        "  return train_loss, train_acc"
      ],
      "metadata": {
        "id": "Xb3ec4bBrxHn"
      },
      "execution_count": null,
      "outputs": []
    },
    {
      "cell_type": "code",
      "source": [
        "def evaluate(data_loader, model, criterion, device):\n",
        "  model.eval()\n",
        "  val_loss, val_acc = 0, 0\n",
        "  with torch.no_grad():\n",
        "    for images, labels in data_loader:\n",
        "      images, labels = images.to(device), labels.to(device)\n",
        "      outputs = model(images)\n",
        "      val_loss += criterion(outputs, labels).item()\n",
        "      val_acc += (torch.argmax(outputs, dim=1) == labels).sum().item()\n",
        "\n",
        "  val_loss /= len(data_loader)\n",
        "  val_acc /= len(data_loader.dataset)\n",
        "  return val_loss, val_acc\n"
      ],
      "metadata": {
        "id": "uGCdpL2MuG1N"
      },
      "execution_count": null,
      "outputs": []
    },
    {
      "cell_type": "code",
      "source": [
        "def fit(train_loader, val_loader, model, criterion, optimizer, device, num_epochs):\n",
        "  train_losses, val_losses = [], []\n",
        "  train_accuracy, val_accuracy = [], []\n",
        "  times = []\n",
        "  for epoch in range(1, num_epochs + 1):\n",
        "    begin = time.time()\n",
        "\n",
        "    ep_train_loss, ep_train_acc = train(train_loader, model, criterion, optimizer, device)\n",
        "    ep_val_loss, ep_val_acc = evaluate(val_loader, model, criterion, device)\n",
        "    train_losses.append(ep_train_loss)\n",
        "    train_accuracy.append(ep_train_acc)\n",
        "    val_losses.append(ep_val_loss)\n",
        "    val_accuracy.append(ep_val_acc)\n",
        "\n",
        "    end = time.time()\n",
        "    times.append(end-begin)\n",
        "\n",
        "    print('-'*60)\n",
        "    print(f'Epoch {epoch:>3d}/{num_epochs} | Time: {end-begin:.2f}s')\n",
        "    print(f'Train Loss: {ep_train_loss:.4f} | Train Accuracy: {ep_train_acc:.4f} | Valid Loss: {ep_val_loss:.4f} | Valid Accuracy: {ep_val_acc:.4f}')\n",
        "    print('-'*60)\n",
        "\n",
        "  metrics = {\n",
        "      'train_loss': train_losses,\n",
        "      'train_accs': train_accuracy,\n",
        "      'val_loss': val_losses,\n",
        "      'val_accs': val_accuracy,\n",
        "      'times': times\n",
        "  }\n",
        "  return model, metrics"
      ],
      "metadata": {
        "id": "_4nRWjuVuKZ3"
      },
      "execution_count": null,
      "outputs": []
    },
    {
      "cell_type": "code",
      "source": [
        "device = torch.device('cuda:0' if torch.cuda.is_available() else 'cpu')\n",
        "in_features = X_over.shape[1]\n",
        "\n",
        "nn_model = nn.Sequential(\n",
        "     nn.Linear(in_features=in_features, out_features=32),\n",
        "     nn.ReLU(inplace=True),\n",
        "     nn.Linear(in_features=32, out_features=16),\n",
        "     nn.ReLU(inplace=True),\n",
        "     nn.Linear(in_features=16, out_features=2)\n",
        ").to(device)"
      ],
      "metadata": {
        "id": "EP1Ny5Mcuvrk"
      },
      "execution_count": null,
      "outputs": []
    },
    {
      "cell_type": "code",
      "source": [
        "criterion = nn.CrossEntropyLoss()\n",
        "optimizer = optim.Adam(nn_model.parameters(),\n",
        "                       lr=0.0001)\n",
        "num_epochs = 50\n",
        "nn_model, nn_metrics = fit(train_loader, test_loader, nn_model, criterion, optimizer, device, num_epochs)"
      ],
      "metadata": {
        "colab": {
          "base_uri": "https://localhost:8080/"
        },
        "id": "kb6F_p8_ucPB",
        "outputId": "7363b838-dece-4897-a8f6-2476ba48cccf"
      },
      "execution_count": null,
      "outputs": [
        {
          "output_type": "stream",
          "name": "stdout",
          "text": [
            "------------------------------------------------------------\n",
            "Epoch   1/50 | Time: 10.65s\n",
            "Train Loss: 0.4010 | Train Accuracy: 0.9103 | Valid Loss: 0.1907 | Valid Accuracy: 0.9816\n",
            "------------------------------------------------------------\n",
            "------------------------------------------------------------\n",
            "Epoch   2/50 | Time: 8.77s\n",
            "Train Loss: 0.0724 | Train Accuracy: 0.9864 | Valid Loss: 0.0534 | Valid Accuracy: 0.9883\n",
            "------------------------------------------------------------\n",
            "------------------------------------------------------------\n",
            "Epoch   3/50 | Time: 7.28s\n",
            "Train Loss: 0.0334 | Train Accuracy: 0.9904 | Valid Loss: 0.0358 | Valid Accuracy: 0.9915\n",
            "------------------------------------------------------------\n",
            "------------------------------------------------------------\n",
            "Epoch   4/50 | Time: 9.14s\n",
            "Train Loss: 0.0235 | Train Accuracy: 0.9933 | Valid Loss: 0.0279 | Valid Accuracy: 0.9935\n",
            "------------------------------------------------------------\n",
            "------------------------------------------------------------\n",
            "Epoch   5/50 | Time: 7.41s\n",
            "Train Loss: 0.0182 | Train Accuracy: 0.9951 | Valid Loss: 0.0239 | Valid Accuracy: 0.9942\n",
            "------------------------------------------------------------\n",
            "------------------------------------------------------------\n",
            "Epoch   6/50 | Time: 8.99s\n",
            "Train Loss: 0.0144 | Train Accuracy: 0.9965 | Valid Loss: 0.0200 | Valid Accuracy: 0.9953\n",
            "------------------------------------------------------------\n",
            "------------------------------------------------------------\n",
            "Epoch   7/50 | Time: 8.44s\n",
            "Train Loss: 0.0118 | Train Accuracy: 0.9974 | Valid Loss: 0.0172 | Valid Accuracy: 0.9960\n",
            "------------------------------------------------------------\n",
            "------------------------------------------------------------\n",
            "Epoch   8/50 | Time: 8.38s\n",
            "Train Loss: 0.0099 | Train Accuracy: 0.9980 | Valid Loss: 0.0155 | Valid Accuracy: 0.9967\n",
            "------------------------------------------------------------\n",
            "------------------------------------------------------------\n",
            "Epoch   9/50 | Time: 9.17s\n",
            "Train Loss: 0.0085 | Train Accuracy: 0.9984 | Valid Loss: 0.0147 | Valid Accuracy: 0.9969\n",
            "------------------------------------------------------------\n",
            "------------------------------------------------------------\n",
            "Epoch  10/50 | Time: 7.62s\n",
            "Train Loss: 0.0075 | Train Accuracy: 0.9987 | Valid Loss: 0.0140 | Valid Accuracy: 0.9971\n",
            "------------------------------------------------------------\n",
            "------------------------------------------------------------\n",
            "Epoch  11/50 | Time: 9.35s\n",
            "Train Loss: 0.0068 | Train Accuracy: 0.9988 | Valid Loss: 0.0125 | Valid Accuracy: 0.9976\n",
            "------------------------------------------------------------\n",
            "------------------------------------------------------------\n",
            "Epoch  12/50 | Time: 7.98s\n",
            "Train Loss: 0.0063 | Train Accuracy: 0.9990 | Valid Loss: 0.0119 | Valid Accuracy: 0.9977\n",
            "------------------------------------------------------------\n",
            "------------------------------------------------------------\n",
            "Epoch  13/50 | Time: 8.53s\n",
            "Train Loss: 0.0059 | Train Accuracy: 0.9990 | Valid Loss: 0.0108 | Valid Accuracy: 0.9981\n",
            "------------------------------------------------------------\n",
            "------------------------------------------------------------\n",
            "Epoch  14/50 | Time: 9.22s\n",
            "Train Loss: 0.0055 | Train Accuracy: 0.9991 | Valid Loss: 0.0109 | Valid Accuracy: 0.9980\n",
            "------------------------------------------------------------\n",
            "------------------------------------------------------------\n",
            "Epoch  15/50 | Time: 7.32s\n",
            "Train Loss: 0.0052 | Train Accuracy: 0.9991 | Valid Loss: 0.0102 | Valid Accuracy: 0.9981\n",
            "------------------------------------------------------------\n",
            "------------------------------------------------------------\n",
            "Epoch  16/50 | Time: 9.34s\n",
            "Train Loss: 0.0049 | Train Accuracy: 0.9992 | Valid Loss: 0.0099 | Valid Accuracy: 0.9983\n",
            "------------------------------------------------------------\n",
            "------------------------------------------------------------\n",
            "Epoch  17/50 | Time: 8.06s\n",
            "Train Loss: 0.0047 | Train Accuracy: 0.9993 | Valid Loss: 0.0102 | Valid Accuracy: 0.9982\n",
            "------------------------------------------------------------\n",
            "------------------------------------------------------------\n",
            "Epoch  18/50 | Time: 8.59s\n",
            "Train Loss: 0.0045 | Train Accuracy: 0.9993 | Valid Loss: 0.0092 | Valid Accuracy: 0.9984\n",
            "------------------------------------------------------------\n",
            "------------------------------------------------------------\n",
            "Epoch  19/50 | Time: 9.27s\n",
            "Train Loss: 0.0043 | Train Accuracy: 0.9993 | Valid Loss: 0.0098 | Valid Accuracy: 0.9982\n",
            "------------------------------------------------------------\n",
            "------------------------------------------------------------\n",
            "Epoch  20/50 | Time: 7.62s\n",
            "Train Loss: 0.0042 | Train Accuracy: 0.9994 | Valid Loss: 0.0087 | Valid Accuracy: 0.9984\n",
            "------------------------------------------------------------\n",
            "------------------------------------------------------------\n",
            "Epoch  21/50 | Time: 9.19s\n",
            "Train Loss: 0.0040 | Train Accuracy: 0.9994 | Valid Loss: 0.0090 | Valid Accuracy: 0.9984\n",
            "------------------------------------------------------------\n",
            "------------------------------------------------------------\n",
            "Epoch  22/50 | Time: 8.83s\n",
            "Train Loss: 0.0039 | Train Accuracy: 0.9994 | Valid Loss: 0.0088 | Valid Accuracy: 0.9984\n",
            "------------------------------------------------------------\n",
            "------------------------------------------------------------\n",
            "Epoch  23/50 | Time: 9.77s\n",
            "Train Loss: 0.0038 | Train Accuracy: 0.9994 | Valid Loss: 0.0086 | Valid Accuracy: 0.9984\n",
            "------------------------------------------------------------\n",
            "------------------------------------------------------------\n",
            "Epoch  24/50 | Time: 8.34s\n",
            "Train Loss: 0.0037 | Train Accuracy: 0.9994 | Valid Loss: 0.0084 | Valid Accuracy: 0.9985\n",
            "------------------------------------------------------------\n",
            "------------------------------------------------------------\n",
            "Epoch  25/50 | Time: 8.17s\n",
            "Train Loss: 0.0036 | Train Accuracy: 0.9995 | Valid Loss: 0.0083 | Valid Accuracy: 0.9985\n",
            "------------------------------------------------------------\n",
            "------------------------------------------------------------\n",
            "Epoch  26/50 | Time: 9.29s\n",
            "Train Loss: 0.0035 | Train Accuracy: 0.9995 | Valid Loss: 0.0076 | Valid Accuracy: 0.9987\n",
            "------------------------------------------------------------\n",
            "------------------------------------------------------------\n",
            "Epoch  27/50 | Time: 7.35s\n",
            "Train Loss: 0.0034 | Train Accuracy: 0.9995 | Valid Loss: 0.0082 | Valid Accuracy: 0.9985\n",
            "------------------------------------------------------------\n",
            "------------------------------------------------------------\n",
            "Epoch  28/50 | Time: 9.43s\n",
            "Train Loss: 0.0034 | Train Accuracy: 0.9995 | Valid Loss: 0.0085 | Valid Accuracy: 0.9985\n",
            "------------------------------------------------------------\n",
            "------------------------------------------------------------\n",
            "Epoch  29/50 | Time: 8.51s\n",
            "Train Loss: 0.0033 | Train Accuracy: 0.9995 | Valid Loss: 0.0078 | Valid Accuracy: 0.9986\n",
            "------------------------------------------------------------\n",
            "------------------------------------------------------------\n",
            "Epoch  30/50 | Time: 8.17s\n",
            "Train Loss: 0.0032 | Train Accuracy: 0.9995 | Valid Loss: 0.0078 | Valid Accuracy: 0.9986\n",
            "------------------------------------------------------------\n",
            "------------------------------------------------------------\n",
            "Epoch  31/50 | Time: 9.21s\n",
            "Train Loss: 0.0032 | Train Accuracy: 0.9995 | Valid Loss: 0.0077 | Valid Accuracy: 0.9987\n",
            "------------------------------------------------------------\n",
            "------------------------------------------------------------\n",
            "Epoch  32/50 | Time: 7.67s\n",
            "Train Loss: 0.0031 | Train Accuracy: 0.9995 | Valid Loss: 0.0077 | Valid Accuracy: 0.9987\n",
            "------------------------------------------------------------\n",
            "------------------------------------------------------------\n",
            "Epoch  33/50 | Time: 9.19s\n",
            "Train Loss: 0.0031 | Train Accuracy: 0.9995 | Valid Loss: 0.0075 | Valid Accuracy: 0.9987\n",
            "------------------------------------------------------------\n",
            "------------------------------------------------------------\n",
            "Epoch  34/50 | Time: 7.97s\n",
            "Train Loss: 0.0030 | Train Accuracy: 0.9995 | Valid Loss: 0.0075 | Valid Accuracy: 0.9988\n",
            "------------------------------------------------------------\n",
            "------------------------------------------------------------\n",
            "Epoch  35/50 | Time: 8.72s\n",
            "Train Loss: 0.0030 | Train Accuracy: 0.9995 | Valid Loss: 0.0076 | Valid Accuracy: 0.9987\n",
            "------------------------------------------------------------\n",
            "------------------------------------------------------------\n",
            "Epoch  36/50 | Time: 9.16s\n",
            "Train Loss: 0.0029 | Train Accuracy: 0.9995 | Valid Loss: 0.0073 | Valid Accuracy: 0.9988\n",
            "------------------------------------------------------------\n",
            "------------------------------------------------------------\n",
            "Epoch  37/50 | Time: 7.42s\n",
            "Train Loss: 0.0029 | Train Accuracy: 0.9995 | Valid Loss: 0.0080 | Valid Accuracy: 0.9987\n",
            "------------------------------------------------------------\n",
            "------------------------------------------------------------\n",
            "Epoch  38/50 | Time: 9.51s\n",
            "Train Loss: 0.0028 | Train Accuracy: 0.9996 | Valid Loss: 0.0076 | Valid Accuracy: 0.9988\n",
            "------------------------------------------------------------\n",
            "------------------------------------------------------------\n",
            "Epoch  39/50 | Time: 8.17s\n",
            "Train Loss: 0.0028 | Train Accuracy: 0.9995 | Valid Loss: 0.0075 | Valid Accuracy: 0.9988\n",
            "------------------------------------------------------------\n",
            "------------------------------------------------------------\n",
            "Epoch  40/50 | Time: 8.51s\n",
            "Train Loss: 0.0027 | Train Accuracy: 0.9996 | Valid Loss: 0.0075 | Valid Accuracy: 0.9988\n",
            "------------------------------------------------------------\n",
            "------------------------------------------------------------\n",
            "Epoch  41/50 | Time: 9.30s\n",
            "Train Loss: 0.0027 | Train Accuracy: 0.9996 | Valid Loss: 0.0075 | Valid Accuracy: 0.9988\n",
            "------------------------------------------------------------\n",
            "------------------------------------------------------------\n",
            "Epoch  42/50 | Time: 7.73s\n",
            "Train Loss: 0.0026 | Train Accuracy: 0.9996 | Valid Loss: 0.0072 | Valid Accuracy: 0.9988\n",
            "------------------------------------------------------------\n",
            "------------------------------------------------------------\n",
            "Epoch  43/50 | Time: 9.13s\n",
            "Train Loss: 0.0026 | Train Accuracy: 0.9996 | Valid Loss: 0.0072 | Valid Accuracy: 0.9989\n",
            "------------------------------------------------------------\n",
            "------------------------------------------------------------\n",
            "Epoch  44/50 | Time: 8.23s\n",
            "Train Loss: 0.0026 | Train Accuracy: 0.9996 | Valid Loss: 0.0070 | Valid Accuracy: 0.9989\n",
            "------------------------------------------------------------\n",
            "------------------------------------------------------------\n",
            "Epoch  45/50 | Time: 8.89s\n",
            "Train Loss: 0.0025 | Train Accuracy: 0.9996 | Valid Loss: 0.0072 | Valid Accuracy: 0.9988\n",
            "------------------------------------------------------------\n",
            "------------------------------------------------------------\n",
            "Epoch  46/50 | Time: 9.16s\n",
            "Train Loss: 0.0025 | Train Accuracy: 0.9996 | Valid Loss: 0.0070 | Valid Accuracy: 0.9989\n",
            "------------------------------------------------------------\n",
            "------------------------------------------------------------\n",
            "Epoch  47/50 | Time: 7.82s\n",
            "Train Loss: 0.0024 | Train Accuracy: 0.9996 | Valid Loss: 0.0069 | Valid Accuracy: 0.9989\n",
            "------------------------------------------------------------\n",
            "------------------------------------------------------------\n",
            "Epoch  48/50 | Time: 13.09s\n",
            "Train Loss: 0.0024 | Train Accuracy: 0.9996 | Valid Loss: 0.0070 | Valid Accuracy: 0.9989\n",
            "------------------------------------------------------------\n",
            "------------------------------------------------------------\n",
            "Epoch  49/50 | Time: 16.43s\n",
            "Train Loss: 0.0024 | Train Accuracy: 0.9996 | Valid Loss: 0.0065 | Valid Accuracy: 0.9990\n",
            "------------------------------------------------------------\n",
            "------------------------------------------------------------\n",
            "Epoch  50/50 | Time: 14.00s\n",
            "Train Loss: 0.0023 | Train Accuracy: 0.9996 | Valid Loss: 0.0074 | Valid Accuracy: 0.9989\n",
            "------------------------------------------------------------\n"
          ]
        }
      ]
    },
    {
      "cell_type": "code",
      "source": [
        "def predict(model, tensors):\n",
        "  model.eval()\n",
        "  with torch.no_grad():\n",
        "    outputs = model(tensors)\n",
        "    return torch.argmax(outputs, dim=1)"
      ],
      "metadata": {
        "id": "L5IFQyfA0N1y"
      },
      "execution_count": null,
      "outputs": []
    },
    {
      "cell_type": "code",
      "source": [
        "nn_ytrain_pred = predict(nn_model, train_dataset.X)\n",
        "nn_ytest_pred = predict(nn_model, test_dataset.X)\n",
        "\n",
        "nn_cf_train = confusion_matrix(train_dataset.y, nn_ytrain_pred)\n",
        "nn_cf_test = confusion_matrix(test_dataset.y, nn_ytest_pred)"
      ],
      "metadata": {
        "id": "TShuJjqL1A_X"
      },
      "execution_count": null,
      "outputs": []
    },
    {
      "cell_type": "code",
      "source": [
        "labels = ['No Fraud', 'Fraud']\n",
        "fig = plt.figure(figsize=(11, 4))\n",
        "fig.tight_layout(pad=5.0)\n",
        "\n",
        "ax1 = plt.subplot(1, 2, 1)\n",
        "sns.heatmap(nn_cf_train, annot=True, fmt='.0f', ax=ax1, cmap=plt.cm.Oranges)\n",
        "ax1.set_xlabel('Predict labels')\n",
        "ax1.set_ylabel('True labels')\n",
        "ax1.set_xticklabels(labels=labels)\n",
        "ax1.set_yticklabels(labels=labels, rotation = 90)\n",
        "ax1.set_title('Oversampled train dataset')\n",
        "\n",
        "ax2 = plt.subplot(1, 2, 2)\n",
        "sns.heatmap(nn_cf_test, annot=True, fmt='.0f', ax=ax2, cmap=plt.cm.Greens)\n",
        "ax2.set_xlabel('Predict labels')\n",
        "ax2.set_xticklabels(labels=labels)\n",
        "ax2.set_yticklabels(labels=labels, rotation = 90)\n",
        "ax2.set_title('Original test dataset')\n",
        "\n",
        "plt.subplots_adjust(wspace=0.2)\n",
        "plt.show()"
      ],
      "metadata": {
        "colab": {
          "base_uri": "https://localhost:8080/",
          "height": 410
        },
        "id": "Jm_yPEdj1quQ",
        "outputId": "a0209790-1c3b-493a-856f-b6a9e30a6ee7"
      },
      "execution_count": null,
      "outputs": [
        {
          "output_type": "display_data",
          "data": {
            "text/plain": [
              "<Figure size 1100x400 with 4 Axes>"
            ],
            "image/png": "[encoded data removed]"
          },
          "metadata": {}
        }
      ]
    },
    {
      "cell_type": "code",
      "source": [
        "print('Classification report: \\n')\n",
        "print('Oversampled train dataset:')\n",
        "print(classification_report(train_dataset.y, nn_ytrain_pred))\n",
        "print('\\nOriginal test dataset:')\n",
        "print(classification_report(test_dataset.y, nn_ytest_pred))"
      ],
      "metadata": {
        "colab": {
          "base_uri": "https://localhost:8080/"
        },
        "id": "TX_JUb_e5s58",
        "outputId": "1cf66be0-1a79-4357-f8b7-a55141a38409"
      },
      "execution_count": null,
      "outputs": [
        {
          "output_type": "stream",
          "name": "stdout",
          "text": [
            "Classification report: \n",
            "\n",
            "Oversampled train dataset:\n",
            "              precision    recall  f1-score   support\n",
            "\n",
            "           0       1.00      1.00      1.00    227451\n",
            "           1       1.00      1.00      1.00    227451\n",
            "\n",
            "    accuracy                           1.00    454902\n",
            "   macro avg       1.00      1.00      1.00    454902\n",
            "weighted avg       1.00      1.00      1.00    454902\n",
            "\n",
            "\n",
            "Original test dataset:\n",
            "              precision    recall  f1-score   support\n",
            "\n",
            "           0       1.00      1.00      1.00     56864\n",
            "           1       0.63      0.88      0.73        98\n",
            "\n",
            "    accuracy                           1.00     56962\n",
            "   macro avg       0.81      0.94      0.87     56962\n",
            "weighted avg       1.00      1.00      1.00     56962\n",
            "\n"
          ]
        }
      ]
    },
    {
      "cell_type": "markdown",
      "source": [
        "# 7.Conclusion"
      ],
      "metadata": {
        "id": "tuz-0BK6624H"
      }
    },
    {
      "cell_type": "markdown",
      "source": [
        "SMOTE oversampling algorithm help machine learning models on imbalance dataset return better prediction on minority classes. After the consideration of four algorithms (K-Nearest Neighbors, Random Forest, XGBoost, Logistic Regression), Random Forest and XGBoost give better evaluation on Fraud transactions classification.\n",
        "\n",
        "Because of the importance of the detection of fraud transaction, the prediction probability can be adjust to ensure that transactions with high fraud probability need to be paid more attention. Thus, some misclassified non-fraud transactions might be accepted.\n",
        "\n",
        "Furthermore, Neural Network model unlikely return outstanding prediction compared to other models."
      ],
      "metadata": {
        "id": "9QeCc2oV65Av"
      }
    }
  ],
  "metadata": {
    "colab": {
      "provenance": [],
      "authorship_tag": "ABX9TyPBpLu8S+2OS7D1z7woqtzk",
      "include_colab_link": true
    },
    "kernelspec": {
      "display_name": "Python 3",
      "name": "python3"
    },
    "language_info": {
      "name": "python"
    }
  },
  "nbformat": 4,
  "nbformat_minor": 0
}